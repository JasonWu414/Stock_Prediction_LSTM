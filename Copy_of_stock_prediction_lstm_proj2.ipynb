{
  "nbformat": 4,
  "nbformat_minor": 0,
  "metadata": {
    "kernelspec": {
      "name": "python3",
      "display_name": "Python 3"
    },
    "colab": {
      "provenance": []
    },
    "gpuClass": "standard"
  },
  "cells": [
    {
      "cell_type": "markdown",
      "metadata": {
        "id": "vGbT1dgk2h0D"
      },
      "source": [
        "# Stock Prediction RNN \n",
        "\n",
        "In this project, I perform a time series prediction using a Recurrent Neural Network regressor. For this example, I will predict Apple's stock price 7 days in advance.\n",
        "\n",
        "The particular network architecture I will employ for my RNN is a  [Long Term Short Memory (LTSM)](https://en.wikipedia.org/wiki/Long_short-term_memory), which helps significantly avoid technical problems with optimization of RNNs."
      ]
    },
    {
      "cell_type": "markdown",
      "metadata": {
        "id": "vwPba0Jg2bSX"
      },
      "source": [
        "# Pytorch LSTM Stock Predictor\n",
        "\n",
        "This is a Pytorch version of the original Keras LSTM Stock Predictor provided by [Super DataScience](https://www.superdatascience.com/deep-learning/), and also available elsewhere in this repo as a notebook."
      ]
    },
    {
      "cell_type": "markdown",
      "metadata": {
        "id": "boG82OJt2n4g"
      },
      "source": [
        "## Step 1: Loading the data\n",
        "\n",
        "First let's load in our time series - a history of around 140 days of Apple's stock price. Then we need to perform a number of pre-processing steps to prepare it for use with an RNN model.  First off, it is good practice to normalize time series - by normalizing its range.  This helps us avoid serious numerical issues associated how common activation functions (like tanh) transform very large (positive or negative) numbers, as well as helping us to avoid related issues when computing derivatives.\n",
        "\n",
        "Here we normalize the series to lie in the range [0,1] [using this scikit function](http://scikit-learn.org/stable/modules/generated/sklearn.preprocessing.MinMaxScaler.html)."
      ]
    },
    {
      "cell_type": "code",
      "metadata": {
        "id": "6k-jrLoP20Fm",
        "colab": {
          "base_uri": "https://localhost:8080/"
        },
        "outputId": "f6edef48-48df-4cc2-ae40-5ac435c56cb7"
      },
      "source": [
        "# download the data\n",
        "!wget https://raw.githubusercontent.com/tonylaioffer/stock-prediction-lstm-using-keras/master/data/sandp500/all_stocks_5yr.csv"
      ],
      "execution_count": 368,
      "outputs": [
        {
          "output_type": "stream",
          "name": "stdout",
          "text": [
            "--2023-01-19 03:20:34--  https://raw.githubusercontent.com/tonylaioffer/stock-prediction-lstm-using-keras/master/data/sandp500/all_stocks_5yr.csv\n",
            "Resolving raw.githubusercontent.com (raw.githubusercontent.com)... 185.199.108.133, 185.199.109.133, 185.199.110.133, ...\n",
            "Connecting to raw.githubusercontent.com (raw.githubusercontent.com)|185.199.108.133|:443... connected.\n",
            "HTTP request sent, awaiting response... 200 OK\n",
            "Length: 29580549 (28M) [text/plain]\n",
            "Saving to: ‘all_stocks_5yr.csv.9’\n",
            "\n",
            "all_stocks_5yr.csv. 100%[===================>]  28.21M   160MB/s    in 0.2s    \n",
            "\n",
            "2023-01-19 03:20:34 (160 MB/s) - ‘all_stocks_5yr.csv.9’ saved [29580549/29580549]\n",
            "\n"
          ]
        }
      ]
    },
    {
      "cell_type": "code",
      "metadata": {
        "id": "3-8wHDYS28-m",
        "colab": {
          "base_uri": "https://localhost:8080/"
        },
        "outputId": "2657319a-f794-4f4d-d382-b2f3f538fcf9"
      },
      "source": [
        "!ls ."
      ],
      "execution_count": 369,
      "outputs": [
        {
          "output_type": "stream",
          "name": "stdout",
          "text": [
            "AAPL.png\t      all_stocks_5yr.csv.3  all_stocks_5yr.csv.7\n",
            "all_stocks_5yr.csv    all_stocks_5yr.csv.4  all_stocks_5yr.csv.8\n",
            "all_stocks_5yr.csv.1  all_stocks_5yr.csv.5  all_stocks_5yr.csv.9\n",
            "all_stocks_5yr.csv.2  all_stocks_5yr.csv.6  sample_data\n"
          ]
        }
      ]
    },
    {
      "cell_type": "code",
      "source": [
        "pip install yfinance"
      ],
      "metadata": {
        "colab": {
          "base_uri": "https://localhost:8080/"
        },
        "id": "yz78utipk0LN",
        "outputId": "508b34d8-2720-464c-c77f-8b64d4e8689d"
      },
      "execution_count": 370,
      "outputs": [
        {
          "output_type": "stream",
          "name": "stdout",
          "text": [
            "Looking in indexes: https://pypi.org/simple, https://us-python.pkg.dev/colab-wheels/public/simple/\n",
            "Requirement already satisfied: yfinance in /usr/local/lib/python3.8/dist-packages (0.2.4)\n",
            "Requirement already satisfied: lxml>=4.9.1 in /usr/local/lib/python3.8/dist-packages (from yfinance) (4.9.2)\n",
            "Requirement already satisfied: frozendict>=2.3.4 in /usr/local/lib/python3.8/dist-packages (from yfinance) (2.3.4)\n",
            "Requirement already satisfied: cryptography>=3.3.2 in /usr/local/lib/python3.8/dist-packages (from yfinance) (39.0.0)\n",
            "Requirement already satisfied: pandas>=1.3.0 in /usr/local/lib/python3.8/dist-packages (from yfinance) (1.3.5)\n",
            "Requirement already satisfied: beautifulsoup4>=4.11.1 in /usr/local/lib/python3.8/dist-packages (from yfinance) (4.11.1)\n",
            "Requirement already satisfied: pytz>=2022.5 in /usr/local/lib/python3.8/dist-packages (from yfinance) (2022.7)\n",
            "Requirement already satisfied: appdirs>=1.4.4 in /usr/local/lib/python3.8/dist-packages (from yfinance) (1.4.4)\n",
            "Requirement already satisfied: multitasking>=0.0.7 in /usr/local/lib/python3.8/dist-packages (from yfinance) (0.0.11)\n",
            "Requirement already satisfied: html5lib>=1.1 in /usr/local/lib/python3.8/dist-packages (from yfinance) (1.1)\n",
            "Requirement already satisfied: requests>=2.26 in /usr/local/lib/python3.8/dist-packages (from yfinance) (2.28.2)\n",
            "Requirement already satisfied: numpy>=1.16.5 in /usr/local/lib/python3.8/dist-packages (from yfinance) (1.21.6)\n",
            "Requirement already satisfied: soupsieve>1.2 in /usr/local/lib/python3.8/dist-packages (from beautifulsoup4>=4.11.1->yfinance) (2.3.2.post1)\n",
            "Requirement already satisfied: cffi>=1.12 in /usr/local/lib/python3.8/dist-packages (from cryptography>=3.3.2->yfinance) (1.15.1)\n",
            "Requirement already satisfied: webencodings in /usr/local/lib/python3.8/dist-packages (from html5lib>=1.1->yfinance) (0.5.1)\n",
            "Requirement already satisfied: six>=1.9 in /usr/local/lib/python3.8/dist-packages (from html5lib>=1.1->yfinance) (1.15.0)\n",
            "Requirement already satisfied: python-dateutil>=2.7.3 in /usr/local/lib/python3.8/dist-packages (from pandas>=1.3.0->yfinance) (2.8.2)\n",
            "Requirement already satisfied: urllib3<1.27,>=1.21.1 in /usr/local/lib/python3.8/dist-packages (from requests>=2.26->yfinance) (1.24.3)\n",
            "Requirement already satisfied: certifi>=2017.4.17 in /usr/local/lib/python3.8/dist-packages (from requests>=2.26->yfinance) (2022.12.7)\n",
            "Requirement already satisfied: idna<4,>=2.5 in /usr/local/lib/python3.8/dist-packages (from requests>=2.26->yfinance) (2.10)\n",
            "Requirement already satisfied: charset-normalizer<4,>=2 in /usr/local/lib/python3.8/dist-packages (from requests>=2.26->yfinance) (2.1.1)\n",
            "Requirement already satisfied: pycparser in /usr/local/lib/python3.8/dist-packages (from cffi>=1.12->cryptography>=3.3.2->yfinance) (2.21)\n"
          ]
        }
      ]
    },
    {
      "cell_type": "code",
      "metadata": {
        "id": "lC_2yxKR2bSe"
      },
      "source": [
        "import numpy as np\n",
        "import pandas as pd\n",
        "import math\n",
        "import matplotlib.pyplot as plt\n",
        "\n",
        "import torch.nn as nn\n",
        "import torch\n",
        "from torch.autograd import Variable\n",
        "from torch.utils.data import Dataset, DataLoader"
      ],
      "execution_count": 371,
      "outputs": []
    },
    {
      "cell_type": "code",
      "source": [
        "import yfinance as yahooFinance\n",
        "\n",
        "\n",
        "# in order to specify start date and\n",
        "# end date we need datetime package\n",
        "import datetime\n",
        "from datetime import date\n",
        "\n",
        "# startDate , as per our convenience we can modify\n",
        "startDate = datetime.datetime(2018, 1, 1)\n",
        "\n",
        "# endDate , as per our convenience we can modify\n",
        "endDate = date.today()\n",
        "\n",
        "#stock list\n",
        "stock_list = [\"AAPL\",\"GOOG\",'AMZN','TSLA']\n",
        "\n",
        "#initialize returned data we want\n",
        "stock_dict = {}\n",
        "\n",
        "for stock in stock_list:\n",
        "  \n",
        "  #pass the parameters as the taken dates for start and end\n",
        "  GetInformation = yahooFinance.Ticker(stock)\n",
        "  stock_df = GetInformation.history(start=startDate,end=endDate)\n",
        "\n",
        "  #Create stock_dict for future modeling and drawing plot purposes\n",
        "  sub_stock_dict = {}\n",
        "  sub_stock_dict['date'] = stock_df.index.values\n",
        "  sub_stock_dict['value'] = stock_df.Close.values\n",
        "  stock_dict[stock] = sub_stock_dict\n",
        "\n",
        "  #Calculating the daily, monthly, and annulized volatility of the stock\n",
        "  #The term “volatility” refers to the statistical measure of the dispersion of returns during a certain period of time for stocks, security, or market index. \n",
        "  #The higher the volatilty, the higher the risk of the stock.\n",
        "  stock_df['daily_returns']=(stock_df['Close'].pct_change()) * 100\n",
        "  daily_returns = stock_df.daily_returns.values\n",
        "  daily_returns = daily_returns[~np.isnan(daily_returns)] #delete the nan\n",
        "  daily_volatility = np.std(daily_returns)\n",
        "  monthly_volatility = math.sqrt(21) * daily_volatility\n",
        "  annualized_volatility = math.sqrt(252) * daily_volatility\n",
        "  print(\"Daily Volatility of\", stock, 'is ', str(daily_volatility), \"%\")\n",
        "  print(\"Monthly Volatility of\", stock, 'is ', str(monthly_volatility), \"%\")\n",
        "  print(\"Annualized Volatility of\", stock, 'is ', str(annualized_volatility), \"%\")\n",
        "  print(\"--------------------------------\")\n"
      ],
      "metadata": {
        "colab": {
          "base_uri": "https://localhost:8080/"
        },
        "id": "pCgxm-TPeMZF",
        "outputId": "6fd8e9e6-70a8-471b-dcb4-310b778d94b7"
      },
      "execution_count": 372,
      "outputs": [
        {
          "output_type": "stream",
          "name": "stdout",
          "text": [
            "Daily Volatility of AAPL is  2.1060730533669116 %\n",
            "Monthly Volatility of AAPL is  9.651239186160643 %\n",
            "Annualized Volatility of AAPL is  33.43287325285987 %\n",
            "--------------------------------\n",
            "Daily Volatility of GOOG is  1.9704269123078508 %\n",
            "Monthly Volatility of GOOG is  9.029630477028839 %\n",
            "Annualized Volatility of GOOG is  31.2795575195727 %\n",
            "--------------------------------\n",
            "Daily Volatility of AMZN is  2.2587015070480723 %\n",
            "Monthly Volatility of AMZN is  10.350670628358623 %\n",
            "Annualized Volatility of AMZN is  35.855774841456025 %\n",
            "--------------------------------\n",
            "Daily Volatility of TSLA is  4.137622067222746 %\n",
            "Monthly Volatility of TSLA is  18.960966320167895 %\n",
            "Annualized Volatility of TSLA is  65.68271405426617 %\n",
            "--------------------------------\n"
          ]
        }
      ]
    },
    {
      "cell_type": "code",
      "source": [
        "stock_dict"
      ],
      "metadata": {
        "colab": {
          "base_uri": "https://localhost:8080/"
        },
        "id": "MpYjmWUgi2_d",
        "outputId": "a624ebce-f6ff-4c87-8c72-64ac38ff7bd3"
      },
      "execution_count": 373,
      "outputs": [
        {
          "output_type": "execute_result",
          "data": {
            "text/plain": [
              "{'AAPL': {'date': array(['2018-01-02T05:00:00.000000000', '2018-01-03T05:00:00.000000000',\n",
              "         '2018-01-04T05:00:00.000000000', ...,\n",
              "         '2023-01-13T05:00:00.000000000', '2023-01-17T05:00:00.000000000',\n",
              "         '2023-01-18T05:00:00.000000000'], dtype='datetime64[ns]'),\n",
              "  'value': array([ 40.95048904,  40.94335938,  41.13354874, ..., 134.75999451,\n",
              "         135.94000244, 135.21000671])},\n",
              " 'GOOG': {'date': array(['2018-01-02T05:00:00.000000000', '2018-01-03T05:00:00.000000000',\n",
              "         '2018-01-04T05:00:00.000000000', ...,\n",
              "         '2023-01-13T05:00:00.000000000', '2023-01-17T05:00:00.000000000',\n",
              "         '2023-01-18T05:00:00.000000000'], dtype='datetime64[ns]'),\n",
              "  'value': array([53.25      , 54.12400055, 54.31999969, ..., 92.80000305,\n",
              "         92.16000366, 91.77999878])},\n",
              " 'AMZN': {'date': array(['2018-01-02T05:00:00.000000000', '2018-01-03T05:00:00.000000000',\n",
              "         '2018-01-04T05:00:00.000000000', ...,\n",
              "         '2023-01-13T05:00:00.000000000', '2023-01-17T05:00:00.000000000',\n",
              "         '2023-01-18T05:00:00.000000000'], dtype='datetime64[ns]'),\n",
              "  'value': array([59.45050049, 60.20999908, 60.47949982, ..., 98.12000275,\n",
              "         96.05000305, 95.45999908])},\n",
              " 'TSLA': {'date': array(['2018-01-02T05:00:00.000000000', '2018-01-03T05:00:00.000000000',\n",
              "         '2018-01-04T05:00:00.000000000', ...,\n",
              "         '2023-01-13T05:00:00.000000000', '2023-01-17T05:00:00.000000000',\n",
              "         '2023-01-18T05:00:00.000000000'], dtype='datetime64[ns]'),\n",
              "  'value': array([ 21.3686676 ,  21.14999962,  20.9746666 , ..., 122.40000153,\n",
              "         131.49000549, 128.77999878])}}"
            ]
          },
          "metadata": {},
          "execution_count": 373
        }
      ]
    },
    {
      "cell_type": "code",
      "source": [],
      "metadata": {
        "id": "xl36Na5mmNlb"
      },
      "execution_count": 373,
      "outputs": []
    },
    {
      "cell_type": "code",
      "metadata": {
        "id": "BvFrixdV2bSw"
      },
      "source": [
        "# Importing the training set\n",
        "stock = 'GOOG'\n",
        "data = pd.read_csv('./all_stocks_5yr.csv')\n",
        "dataset = data[data['Name']==stock]\n",
        "dataset_cl = dataset[dataset['Name']==stock].close.values\n",
        "\n",
        "# dataset_train = pd.read_csv('Google_Stock_Price_Train.csv')\n",
        "# training_set = dataset_train.iloc[:, 1:2].values"
      ],
      "execution_count": 374,
      "outputs": []
    },
    {
      "cell_type": "code",
      "source": [
        "stock_name = dataset.Name.values"
      ],
      "metadata": {
        "id": "r7LYUQC6MjI-"
      },
      "execution_count": 375,
      "outputs": []
    },
    {
      "cell_type": "code",
      "source": [
        "'GOOG' in stock_name"
      ],
      "metadata": {
        "colab": {
          "base_uri": "https://localhost:8080/"
        },
        "id": "XwBalsZEM6Df",
        "outputId": "fff74018-4388-42b9-9141-c0f9db3df7d2"
      },
      "execution_count": 376,
      "outputs": [
        {
          "output_type": "execute_result",
          "data": {
            "text/plain": [
              "True"
            ]
          },
          "metadata": {},
          "execution_count": 376
        }
      ]
    },
    {
      "cell_type": "code",
      "source": [
        "dataset.head()"
      ],
      "metadata": {
        "colab": {
          "base_uri": "https://localhost:8080/",
          "height": 206
        },
        "id": "hI4vyShbFvuE",
        "outputId": "162fc896-8e8d-4dbe-fa5b-5d59661db945"
      },
      "execution_count": 377,
      "outputs": [
        {
          "output_type": "execute_result",
          "data": {
            "text/plain": [
              "              date     open    high     low   close  volume  Name\n",
              "251567  2014-03-27  568.000  568.00  552.92  558.46   13052  GOOG\n",
              "251568  2014-03-28  561.200  566.43  558.67  559.99   41003  GOOG\n",
              "251569  2014-03-31  566.890  567.00  556.93  556.97   10772  GOOG\n",
              "251570  2014-04-01  558.710  568.45  558.71  567.16    7932  GOOG\n",
              "251571  2014-04-02  565.106  604.83  562.19  567.00  146697  GOOG"
            ],
            "text/html": [
              "\n",
              "  <div id=\"df-66ca1794-14c5-4499-82eb-2d5f9a21aa5b\">\n",
              "    <div class=\"colab-df-container\">\n",
              "      <div>\n",
              "<style scoped>\n",
              "    .dataframe tbody tr th:only-of-type {\n",
              "        vertical-align: middle;\n",
              "    }\n",
              "\n",
              "    .dataframe tbody tr th {\n",
              "        vertical-align: top;\n",
              "    }\n",
              "\n",
              "    .dataframe thead th {\n",
              "        text-align: right;\n",
              "    }\n",
              "</style>\n",
              "<table border=\"1\" class=\"dataframe\">\n",
              "  <thead>\n",
              "    <tr style=\"text-align: right;\">\n",
              "      <th></th>\n",
              "      <th>date</th>\n",
              "      <th>open</th>\n",
              "      <th>high</th>\n",
              "      <th>low</th>\n",
              "      <th>close</th>\n",
              "      <th>volume</th>\n",
              "      <th>Name</th>\n",
              "    </tr>\n",
              "  </thead>\n",
              "  <tbody>\n",
              "    <tr>\n",
              "      <th>251567</th>\n",
              "      <td>2014-03-27</td>\n",
              "      <td>568.000</td>\n",
              "      <td>568.00</td>\n",
              "      <td>552.92</td>\n",
              "      <td>558.46</td>\n",
              "      <td>13052</td>\n",
              "      <td>GOOG</td>\n",
              "    </tr>\n",
              "    <tr>\n",
              "      <th>251568</th>\n",
              "      <td>2014-03-28</td>\n",
              "      <td>561.200</td>\n",
              "      <td>566.43</td>\n",
              "      <td>558.67</td>\n",
              "      <td>559.99</td>\n",
              "      <td>41003</td>\n",
              "      <td>GOOG</td>\n",
              "    </tr>\n",
              "    <tr>\n",
              "      <th>251569</th>\n",
              "      <td>2014-03-31</td>\n",
              "      <td>566.890</td>\n",
              "      <td>567.00</td>\n",
              "      <td>556.93</td>\n",
              "      <td>556.97</td>\n",
              "      <td>10772</td>\n",
              "      <td>GOOG</td>\n",
              "    </tr>\n",
              "    <tr>\n",
              "      <th>251570</th>\n",
              "      <td>2014-04-01</td>\n",
              "      <td>558.710</td>\n",
              "      <td>568.45</td>\n",
              "      <td>558.71</td>\n",
              "      <td>567.16</td>\n",
              "      <td>7932</td>\n",
              "      <td>GOOG</td>\n",
              "    </tr>\n",
              "    <tr>\n",
              "      <th>251571</th>\n",
              "      <td>2014-04-02</td>\n",
              "      <td>565.106</td>\n",
              "      <td>604.83</td>\n",
              "      <td>562.19</td>\n",
              "      <td>567.00</td>\n",
              "      <td>146697</td>\n",
              "      <td>GOOG</td>\n",
              "    </tr>\n",
              "  </tbody>\n",
              "</table>\n",
              "</div>\n",
              "      <button class=\"colab-df-convert\" onclick=\"convertToInteractive('df-66ca1794-14c5-4499-82eb-2d5f9a21aa5b')\"\n",
              "              title=\"Convert this dataframe to an interactive table.\"\n",
              "              style=\"display:none;\">\n",
              "        \n",
              "  <svg xmlns=\"http://www.w3.org/2000/svg\" height=\"24px\"viewBox=\"0 0 24 24\"\n",
              "       width=\"24px\">\n",
              "    <path d=\"M0 0h24v24H0V0z\" fill=\"none\"/>\n",
              "    <path d=\"M18.56 5.44l.94 2.06.94-2.06 2.06-.94-2.06-.94-.94-2.06-.94 2.06-2.06.94zm-11 1L8.5 8.5l.94-2.06 2.06-.94-2.06-.94L8.5 2.5l-.94 2.06-2.06.94zm10 10l.94 2.06.94-2.06 2.06-.94-2.06-.94-.94-2.06-.94 2.06-2.06.94z\"/><path d=\"M17.41 7.96l-1.37-1.37c-.4-.4-.92-.59-1.43-.59-.52 0-1.04.2-1.43.59L10.3 9.45l-7.72 7.72c-.78.78-.78 2.05 0 2.83L4 21.41c.39.39.9.59 1.41.59.51 0 1.02-.2 1.41-.59l7.78-7.78 2.81-2.81c.8-.78.8-2.07 0-2.86zM5.41 20L4 18.59l7.72-7.72 1.47 1.35L5.41 20z\"/>\n",
              "  </svg>\n",
              "      </button>\n",
              "      \n",
              "  <style>\n",
              "    .colab-df-container {\n",
              "      display:flex;\n",
              "      flex-wrap:wrap;\n",
              "      gap: 12px;\n",
              "    }\n",
              "\n",
              "    .colab-df-convert {\n",
              "      background-color: #E8F0FE;\n",
              "      border: none;\n",
              "      border-radius: 50%;\n",
              "      cursor: pointer;\n",
              "      display: none;\n",
              "      fill: #1967D2;\n",
              "      height: 32px;\n",
              "      padding: 0 0 0 0;\n",
              "      width: 32px;\n",
              "    }\n",
              "\n",
              "    .colab-df-convert:hover {\n",
              "      background-color: #E2EBFA;\n",
              "      box-shadow: 0px 1px 2px rgba(60, 64, 67, 0.3), 0px 1px 3px 1px rgba(60, 64, 67, 0.15);\n",
              "      fill: #174EA6;\n",
              "    }\n",
              "\n",
              "    [theme=dark] .colab-df-convert {\n",
              "      background-color: #3B4455;\n",
              "      fill: #D2E3FC;\n",
              "    }\n",
              "\n",
              "    [theme=dark] .colab-df-convert:hover {\n",
              "      background-color: #434B5C;\n",
              "      box-shadow: 0px 1px 3px 1px rgba(0, 0, 0, 0.15);\n",
              "      filter: drop-shadow(0px 1px 2px rgba(0, 0, 0, 0.3));\n",
              "      fill: #FFFFFF;\n",
              "    }\n",
              "  </style>\n",
              "\n",
              "      <script>\n",
              "        const buttonEl =\n",
              "          document.querySelector('#df-66ca1794-14c5-4499-82eb-2d5f9a21aa5b button.colab-df-convert');\n",
              "        buttonEl.style.display =\n",
              "          google.colab.kernel.accessAllowed ? 'block' : 'none';\n",
              "\n",
              "        async function convertToInteractive(key) {\n",
              "          const element = document.querySelector('#df-66ca1794-14c5-4499-82eb-2d5f9a21aa5b');\n",
              "          const dataTable =\n",
              "            await google.colab.kernel.invokeFunction('convertToInteractive',\n",
              "                                                     [key], {});\n",
              "          if (!dataTable) return;\n",
              "\n",
              "          const docLinkHtml = 'Like what you see? Visit the ' +\n",
              "            '<a target=\"_blank\" href=https://colab.research.google.com/notebooks/data_table.ipynb>data table notebook</a>'\n",
              "            + ' to learn more about interactive tables.';\n",
              "          element.innerHTML = '';\n",
              "          dataTable['output_type'] = 'display_data';\n",
              "          await google.colab.output.renderOutput(dataTable, element);\n",
              "          const docLink = document.createElement('div');\n",
              "          docLink.innerHTML = docLinkHtml;\n",
              "          element.appendChild(docLink);\n",
              "        }\n",
              "      </script>\n",
              "    </div>\n",
              "  </div>\n",
              "  "
            ]
          },
          "metadata": {},
          "execution_count": 377
        }
      ]
    },
    {
      "cell_type": "markdown",
      "source": [
        "## Step 1.5 calculating the daily, monthly, and annulized Volatility of the selected stock\n",
        "\n",
        "The term “volatility” refers to the statistical measure of the dispersion of returns during a certain period of time for stocks, security, or market index. The higher the volatilty, the higher the risk of the stock.\n",
        "\n",
        "\n",
        "Daily Volatility formula = √Variance --> first calculate daily return, and use the daily return dataset to calculate the its variance\n",
        "         \n",
        "Monthly Volatility Formula = √21 * √Variance  \n",
        "\n",
        "Annualized Volatility Formula = √252 * √Variance"
      ],
      "metadata": {
        "id": "iTSm7rD2GXY_"
      }
    },
    {
      "cell_type": "code",
      "source": [
        "#calculate daily return\n",
        "dataset['daily_returns']=(dataset['close'].pct_change()) * 100\n",
        "dataset.head(3)"
      ],
      "metadata": {
        "colab": {
          "base_uri": "https://localhost:8080/",
          "height": 271
        },
        "id": "MtkKtifMGBxr",
        "outputId": "f8c25208-e076-4d9a-9bad-a2ad971f2028"
      },
      "execution_count": 378,
      "outputs": [
        {
          "output_type": "stream",
          "name": "stderr",
          "text": [
            "<ipython-input-378-e4722b123bff>:2: SettingWithCopyWarning: \n",
            "A value is trying to be set on a copy of a slice from a DataFrame.\n",
            "Try using .loc[row_indexer,col_indexer] = value instead\n",
            "\n",
            "See the caveats in the documentation: https://pandas.pydata.org/pandas-docs/stable/user_guide/indexing.html#returning-a-view-versus-a-copy\n",
            "  dataset['daily_returns']=(dataset['close'].pct_change()) * 100\n"
          ]
        },
        {
          "output_type": "execute_result",
          "data": {
            "text/plain": [
              "              date    open    high     low   close  volume  Name  \\\n",
              "251567  2014-03-27  568.00  568.00  552.92  558.46   13052  GOOG   \n",
              "251568  2014-03-28  561.20  566.43  558.67  559.99   41003  GOOG   \n",
              "251569  2014-03-31  566.89  567.00  556.93  556.97   10772  GOOG   \n",
              "\n",
              "        daily_returns  \n",
              "251567            NaN  \n",
              "251568       0.273968  \n",
              "251569      -0.539295  "
            ],
            "text/html": [
              "\n",
              "  <div id=\"df-dfcd4d09-591c-449f-9885-774209a3781b\">\n",
              "    <div class=\"colab-df-container\">\n",
              "      <div>\n",
              "<style scoped>\n",
              "    .dataframe tbody tr th:only-of-type {\n",
              "        vertical-align: middle;\n",
              "    }\n",
              "\n",
              "    .dataframe tbody tr th {\n",
              "        vertical-align: top;\n",
              "    }\n",
              "\n",
              "    .dataframe thead th {\n",
              "        text-align: right;\n",
              "    }\n",
              "</style>\n",
              "<table border=\"1\" class=\"dataframe\">\n",
              "  <thead>\n",
              "    <tr style=\"text-align: right;\">\n",
              "      <th></th>\n",
              "      <th>date</th>\n",
              "      <th>open</th>\n",
              "      <th>high</th>\n",
              "      <th>low</th>\n",
              "      <th>close</th>\n",
              "      <th>volume</th>\n",
              "      <th>Name</th>\n",
              "      <th>daily_returns</th>\n",
              "    </tr>\n",
              "  </thead>\n",
              "  <tbody>\n",
              "    <tr>\n",
              "      <th>251567</th>\n",
              "      <td>2014-03-27</td>\n",
              "      <td>568.00</td>\n",
              "      <td>568.00</td>\n",
              "      <td>552.92</td>\n",
              "      <td>558.46</td>\n",
              "      <td>13052</td>\n",
              "      <td>GOOG</td>\n",
              "      <td>NaN</td>\n",
              "    </tr>\n",
              "    <tr>\n",
              "      <th>251568</th>\n",
              "      <td>2014-03-28</td>\n",
              "      <td>561.20</td>\n",
              "      <td>566.43</td>\n",
              "      <td>558.67</td>\n",
              "      <td>559.99</td>\n",
              "      <td>41003</td>\n",
              "      <td>GOOG</td>\n",
              "      <td>0.273968</td>\n",
              "    </tr>\n",
              "    <tr>\n",
              "      <th>251569</th>\n",
              "      <td>2014-03-31</td>\n",
              "      <td>566.89</td>\n",
              "      <td>567.00</td>\n",
              "      <td>556.93</td>\n",
              "      <td>556.97</td>\n",
              "      <td>10772</td>\n",
              "      <td>GOOG</td>\n",
              "      <td>-0.539295</td>\n",
              "    </tr>\n",
              "  </tbody>\n",
              "</table>\n",
              "</div>\n",
              "      <button class=\"colab-df-convert\" onclick=\"convertToInteractive('df-dfcd4d09-591c-449f-9885-774209a3781b')\"\n",
              "              title=\"Convert this dataframe to an interactive table.\"\n",
              "              style=\"display:none;\">\n",
              "        \n",
              "  <svg xmlns=\"http://www.w3.org/2000/svg\" height=\"24px\"viewBox=\"0 0 24 24\"\n",
              "       width=\"24px\">\n",
              "    <path d=\"M0 0h24v24H0V0z\" fill=\"none\"/>\n",
              "    <path d=\"M18.56 5.44l.94 2.06.94-2.06 2.06-.94-2.06-.94-.94-2.06-.94 2.06-2.06.94zm-11 1L8.5 8.5l.94-2.06 2.06-.94-2.06-.94L8.5 2.5l-.94 2.06-2.06.94zm10 10l.94 2.06.94-2.06 2.06-.94-2.06-.94-.94-2.06-.94 2.06-2.06.94z\"/><path d=\"M17.41 7.96l-1.37-1.37c-.4-.4-.92-.59-1.43-.59-.52 0-1.04.2-1.43.59L10.3 9.45l-7.72 7.72c-.78.78-.78 2.05 0 2.83L4 21.41c.39.39.9.59 1.41.59.51 0 1.02-.2 1.41-.59l7.78-7.78 2.81-2.81c.8-.78.8-2.07 0-2.86zM5.41 20L4 18.59l7.72-7.72 1.47 1.35L5.41 20z\"/>\n",
              "  </svg>\n",
              "      </button>\n",
              "      \n",
              "  <style>\n",
              "    .colab-df-container {\n",
              "      display:flex;\n",
              "      flex-wrap:wrap;\n",
              "      gap: 12px;\n",
              "    }\n",
              "\n",
              "    .colab-df-convert {\n",
              "      background-color: #E8F0FE;\n",
              "      border: none;\n",
              "      border-radius: 50%;\n",
              "      cursor: pointer;\n",
              "      display: none;\n",
              "      fill: #1967D2;\n",
              "      height: 32px;\n",
              "      padding: 0 0 0 0;\n",
              "      width: 32px;\n",
              "    }\n",
              "\n",
              "    .colab-df-convert:hover {\n",
              "      background-color: #E2EBFA;\n",
              "      box-shadow: 0px 1px 2px rgba(60, 64, 67, 0.3), 0px 1px 3px 1px rgba(60, 64, 67, 0.15);\n",
              "      fill: #174EA6;\n",
              "    }\n",
              "\n",
              "    [theme=dark] .colab-df-convert {\n",
              "      background-color: #3B4455;\n",
              "      fill: #D2E3FC;\n",
              "    }\n",
              "\n",
              "    [theme=dark] .colab-df-convert:hover {\n",
              "      background-color: #434B5C;\n",
              "      box-shadow: 0px 1px 3px 1px rgba(0, 0, 0, 0.15);\n",
              "      filter: drop-shadow(0px 1px 2px rgba(0, 0, 0, 0.3));\n",
              "      fill: #FFFFFF;\n",
              "    }\n",
              "  </style>\n",
              "\n",
              "      <script>\n",
              "        const buttonEl =\n",
              "          document.querySelector('#df-dfcd4d09-591c-449f-9885-774209a3781b button.colab-df-convert');\n",
              "        buttonEl.style.display =\n",
              "          google.colab.kernel.accessAllowed ? 'block' : 'none';\n",
              "\n",
              "        async function convertToInteractive(key) {\n",
              "          const element = document.querySelector('#df-dfcd4d09-591c-449f-9885-774209a3781b');\n",
              "          const dataTable =\n",
              "            await google.colab.kernel.invokeFunction('convertToInteractive',\n",
              "                                                     [key], {});\n",
              "          if (!dataTable) return;\n",
              "\n",
              "          const docLinkHtml = 'Like what you see? Visit the ' +\n",
              "            '<a target=\"_blank\" href=https://colab.research.google.com/notebooks/data_table.ipynb>data table notebook</a>'\n",
              "            + ' to learn more about interactive tables.';\n",
              "          element.innerHTML = '';\n",
              "          dataTable['output_type'] = 'display_data';\n",
              "          await google.colab.output.renderOutput(dataTable, element);\n",
              "          const docLink = document.createElement('div');\n",
              "          docLink.innerHTML = docLinkHtml;\n",
              "          element.appendChild(docLink);\n",
              "        }\n",
              "      </script>\n",
              "    </div>\n",
              "  </div>\n",
              "  "
            ]
          },
          "metadata": {},
          "execution_count": 378
        }
      ]
    },
    {
      "cell_type": "code",
      "source": [
        "#daily Volatility formula\n",
        "daily_returns = dataset.daily_returns.values\n",
        "#delete the nan\n",
        "daily_returns = daily_returns[~np.isnan(daily_returns)]\n",
        "#calculate the variance\n",
        "daily_volatility = np.std(daily_returns)\n",
        "print(\"Daily Volatility of\", stock, 'is ', str(daily_volatility), \"%\")\n",
        "#Monthly Volatility formula\n",
        "monthly_volatility = math.sqrt(21) * daily_volatility\n",
        "print(\"Monthly Volatility of\", stock, 'is ', str(monthly_volatility), \"%\")\n",
        "math.sqrt(252) * np.std(dataset_cl)\n",
        "#Annualized Volatility formula\n",
        "Annualized_volatility = math.sqrt(252) * daily_volatility\n",
        "print(\"Annualized Volatility of\", stock, 'is ', str(Annualized_volatility), \"%\")"
      ],
      "metadata": {
        "colab": {
          "base_uri": "https://localhost:8080/"
        },
        "id": "zgTszKBJKGlO",
        "outputId": "85c84f24-bee3-4b61-a520-ff36f61b8132"
      },
      "execution_count": 379,
      "outputs": [
        {
          "output_type": "stream",
          "name": "stdout",
          "text": [
            "Daily Volatility of GOOG is  1.4061486519595512 %\n",
            "Monthly Volatility of GOOG is  6.443782635964758 %\n",
            "Annualized Volatility of GOOG is  22.321917836842136 %\n"
          ]
        }
      ]
    },
    {
      "cell_type": "markdown",
      "source": [
        "## normally, "
      ],
      "metadata": {
        "id": "jP988qZ5MHOD"
      }
    },
    {
      "cell_type": "code",
      "source": [
        "dataset_cl[:5] # STOCK PRICE FOR SWKS"
      ],
      "metadata": {
        "colab": {
          "base_uri": "https://localhost:8080/"
        },
        "id": "JjMoi3NZw6f9",
        "outputId": "e890d229-ac9c-46f7-b0ba-1d2939e127fa"
      },
      "execution_count": 380,
      "outputs": [
        {
          "output_type": "execute_result",
          "data": {
            "text/plain": [
              "array([558.46, 559.99, 556.97, 567.16, 567.  ])"
            ]
          },
          "metadata": {},
          "execution_count": 380
        }
      ]
    },
    {
      "cell_type": "code",
      "source": [
        "len(dataset_cl) "
      ],
      "metadata": {
        "colab": {
          "base_uri": "https://localhost:8080/"
        },
        "id": "O-koY7iqxdeK",
        "outputId": "afceea83-aa81-4a8c-c304-ff7d2a382ee7"
      },
      "execution_count": 381,
      "outputs": [
        {
          "output_type": "execute_result",
          "data": {
            "text/plain": [
              "975"
            ]
          },
          "metadata": {},
          "execution_count": 381
        }
      ]
    },
    {
      "cell_type": "code",
      "source": [
        "stock_dict_normalized[stock]['value']"
      ],
      "metadata": {
        "colab": {
          "base_uri": "https://localhost:8080/"
        },
        "id": "lRN5P-oVpat0",
        "outputId": "2686d09b-c239-4e21-a301-517efd61f62c"
      },
      "execution_count": 382,
      "outputs": [
        {
          "output_type": "execute_result",
          "data": {
            "text/plain": [
              "array([[0.04356316],\n",
              "       [0.05214037],\n",
              "       [0.05406386],\n",
              "       ...,\n",
              "       [0.43169643],\n",
              "       [0.42541564],\n",
              "       [0.42168638]])"
            ]
          },
          "metadata": {},
          "execution_count": 382
        }
      ]
    },
    {
      "cell_type": "code",
      "source": [
        "stock_dict_normalized['AAPL']['value']"
      ],
      "metadata": {
        "colab": {
          "base_uri": "https://localhost:8080/"
        },
        "id": "Y2lMrMX8pgAm",
        "outputId": "d99e65fa-2e6c-4bee-b710-1080d04e4a26"
      },
      "execution_count": 383,
      "outputs": [
        {
          "output_type": "execute_result",
          "data": {
            "text/plain": [
              "array([[0.04528403],\n",
              "       [0.04523544],\n",
              "       [0.04653231],\n",
              "       ...,\n",
              "       [0.68496624],\n",
              "       [0.69301266],\n",
              "       [0.68803485]])"
            ]
          },
          "metadata": {},
          "execution_count": 383
        }
      ]
    },
    {
      "cell_type": "code",
      "metadata": {
        "id": "XFvN25Yj3w9r"
      },
      "source": [
        "# Feature Scaling\n",
        "from sklearn.preprocessing import MinMaxScaler\n",
        "\n",
        "sc = MinMaxScaler(feature_range = (0, 1)) # X_std = (X - X.min(axis=0)) / (X.max(axis=0) - X.min(axis=0)) --> X_scaled = X_std * (max - min) + min\n",
        "\n",
        "import copy\n",
        "\n",
        "stock_dict_normalized = copy.deepcopy(stock_dict)\n",
        "\n",
        "# scale the data\n",
        "for stock in stock_list:\n",
        "  stock_dict_normalized[stock]['value'] = stock_dict_normalized[stock]['value'].reshape(stock_dict_normalized[stock]['value'].shape[0], 1)\n",
        "  stock_dict_normalized[stock]['value'] = sc.fit_transform(stock_dict_normalized[stock]['value'])"
      ],
      "execution_count": 384,
      "outputs": []
    },
    {
      "cell_type": "code",
      "source": [
        "dataset_cl[:5] #data after scale"
      ],
      "metadata": {
        "colab": {
          "base_uri": "https://localhost:8080/"
        },
        "id": "OfFgbn8s27st",
        "outputId": "43d9808c-faab-40f8-acc0-7604ae20d3b1"
      },
      "execution_count": 385,
      "outputs": [
        {
          "output_type": "execute_result",
          "data": {
            "text/plain": [
              "array([558.46, 559.99, 556.97, 567.16, 567.  ])"
            ]
          },
          "metadata": {},
          "execution_count": 385
        }
      ]
    },
    {
      "cell_type": "code",
      "source": [
        "dataset_cl.shape"
      ],
      "metadata": {
        "colab": {
          "base_uri": "https://localhost:8080/"
        },
        "id": "IDKqLj5p21vq",
        "outputId": "4f34dbee-02f4-47e7-e764-bd67896dceea"
      },
      "execution_count": 386,
      "outputs": [
        {
          "output_type": "execute_result",
          "data": {
            "text/plain": [
              "(975,)"
            ]
          },
          "metadata": {},
          "execution_count": 386
        }
      ]
    },
    {
      "cell_type": "markdown",
      "metadata": {
        "id": "UURKEshg3g0G"
      },
      "source": [
        "## Step 2:  Cutting our time series into sequences\n",
        "\n",
        "Remember, our time series is a sequence of numbers that we can represent in general mathematically as \n",
        "\n",
        "$$s_{0},s_{1},s_{2},...,s_{P}$$\n",
        "\n",
        "where $s_{p}$ is the numerical value of the time series at time period $p$ and where $P$ is the total length of the series.  In order to apply our RNN we treat the time series prediction problem as a regression problem, and so need to use a sliding window to construct a set of associated input/output pairs to regress on.  This process is animated in the gif below.\n",
        "\n",
        "<img src=\"https://github.com/tonylaioffer/stock-prediction-lstm-using-keras/raw/master/images/timeseries_windowing_training.gif\" width=600 height=288/>\n",
        "\n",
        "For example - using a window of size T = 5 (as illustrated in the gif above) we produce a set of input/output pairs like the one shown in the table below\n",
        "\n",
        "$$\\begin{array}{c|c}\n",
        "\\text{Input} & \\text{Output}\\\\\n",
        "\\hline \\color{CornflowerBlue} {\\langle s_{1},s_{2},s_{3},s_{4},s_{5}\\rangle} & \\color{Goldenrod}{ s_{6}} \\\\\n",
        "\\ \\color{CornflowerBlue} {\\langle s_{2},s_{3},s_{4},s_{5},s_{6} \\rangle } & \\color{Goldenrod} {s_{7} } \\\\\n",
        "\\color{CornflowerBlue}  {\\vdots} & \\color{Goldenrod} {\\vdots}\\\\\n",
        "\\color{CornflowerBlue} { \\langle s_{P-5},s_{P-4},s_{P-3},s_{P-2},s_{P-1} \\rangle } & \\color{Goldenrod} {s_{P}}\n",
        "\\end{array}$$\n",
        "\n",
        "Notice here that each input is a sequence (or vector) of length 4 (and in general has length equal to the window size T) while each corresponding output is a scalar value.  Notice also how given a time series of length P and window size T = 5 as shown above, we created P - 5  input/output pairs.  More generally, for a window size T we create P - T such pairs.\n",
        "\n",
        "Now let's window the input time series as described above!  "
      ]
    },
    {
      "cell_type": "code",
      "metadata": {
        "id": "pvBLqRvm4L6k",
        "colab": {
          "base_uri": "https://localhost:8080/"
        },
        "outputId": "184bbf28-6faf-48ae-befe-8ec83d7f38de"
      },
      "source": [
        "#Create a function to process the data into 7 day look back slices\n",
        "def processData(data, lb):\n",
        "    X, Y = [], []\n",
        "    for i in range(len(data) - lb - 1):\n",
        "        X.append(data[i: (i + lb), 0])\n",
        "        Y.append(data[(i + lb), 0])\n",
        "    return np.array(X), np.array(Y)\n",
        "\n",
        "X_list = []\n",
        "y_list = []\n",
        "for stock in stock_list:\n",
        "  X, y = processData(stock_dict_normalized[stock]['value'], 7) #every X: past 7 days data --> every Y: new day's data (8th day)\n",
        "  print(X.shape)\n",
        "  print(y.shape)\n",
        "  X_list.append(X)\n",
        "  y_list.append(y)\n"
      ],
      "execution_count": 387,
      "outputs": [
        {
          "output_type": "stream",
          "name": "stdout",
          "text": [
            "(1262, 7)\n",
            "(1262,)\n",
            "(1262, 7)\n",
            "(1262,)\n",
            "(1262, 7)\n",
            "(1262,)\n",
            "(1262, 7)\n",
            "(1262,)\n"
          ]
        }
      ]
    },
    {
      "cell_type": "markdown",
      "metadata": {
        "id": "yHsQGQ_V42G0"
      },
      "source": [
        "## Step 3: Split training and testing sets\n",
        "\n",
        "In order to perform proper testing on our dataset we will lop off the last 1/3 of it for validation (or testing).  \n",
        "\n",
        "Note how here we are **not** splitting the dataset *randomly* as one typically would do when validating a regression model.  This is because our input/output pairs *are related temporally*.   We don't want to validate our model by training on a random subset of the series and then testing on another random subset, as this simulates the scenario that we receive new points *within the timeframe of our training set*.  \n",
        "\n",
        "We want to train on one solid chunk of the series (in our case, the first full 2/3 of it), and validate on a later chunk (the last 1/3) as this simulates how we would predict *future* values of a time series."
      ]
    },
    {
      "cell_type": "code",
      "metadata": {
        "id": "syFXDlpn45xA"
      },
      "source": [
        "X_train_list = []\n",
        "X_test_list = []\n",
        "y_train_list = []\n",
        "y_test_list = []\n",
        "\n",
        "for i in range(len(stock_list)):\n",
        "  X = X_list[i]\n",
        "  y = y_list[i]\n",
        "  X_train, X_test = X[:int(X.shape[0]*0.80)],X[int(X.shape[0]*0.80):]\n",
        "  y_train, y_test = y[:int(y.shape[0]*0.80)],y[int(y.shape[0]*0.80):]\n",
        "\n",
        "  # reshaping\n",
        "  X_train = np.reshape(X_train, (X_train.shape[0], 1, X_train.shape[1]))\n",
        "  X_test = np.reshape(X_test, (X_test.shape[0], 1, X_test.shape[1]))\n",
        "\n",
        "  X_train_list.append(X_train)\n",
        "  X_test_list.append(X_test)\n",
        "  y_train_list.append(y_train)\n",
        "  y_test_list.append(y_test)"
      ],
      "execution_count": 388,
      "outputs": []
    },
    {
      "cell_type": "code",
      "metadata": {
        "id": "oPfVnOcm2bTF"
      },
      "source": [
        "# Reshaping\n",
        "# X_train = np.reshape(X_train, (X_train.shape[0], 1, X_train.shape[1]))"
      ],
      "execution_count": 389,
      "outputs": []
    },
    {
      "cell_type": "markdown",
      "metadata": {
        "id": "GMXggue15R41"
      },
      "source": [
        "## Step 4:  Build and run an LSTM regression model\n",
        "\n",
        "Having created input/output pairs out of our time series and cut this into training/testing sets, we can now begin setting up our RNN.  We use Keras to quickly build a two hidden layer RNN of the following specifications\n",
        "\n",
        "- layer 1 uses an LSTM module with 5 hidden units (note here the input_shape = (window_size,1))\n",
        "- layer 2 uses a fully connected module with one unit\n",
        "- the 'mean_squared_error' loss should be used"
      ]
    },
    {
      "cell_type": "code",
      "metadata": {
        "id": "HNWryPPg2bTM"
      },
      "source": [
        "class LSTM(nn.Module):\n",
        "    def __init__(self, i_size, h_size, n_layers, o_size, dropout=0.1, bidirectional=True):\n",
        "        super(LSTM, self).__init__() #This is needed to initialize the nn.Module properly\n",
        "        self.num_directions = bidirectional+1\n",
        "        self.rnn = nn.LSTM(\n",
        "            input_size=i_size, #The number of expected features in the input x\n",
        "            hidden_size=h_size, #The number of features in the hidden state h\n",
        "            num_layers=n_layers, #Number of recurrent layers\n",
        "            dropout=dropout,\n",
        "            bidirectional=bidirectional\n",
        "        )\n",
        "        self.out = nn.Linear(h_size, o_size)\n",
        "\n",
        "    def forward(self, x, h_state):\n",
        "        r_out, hidden_state = self.rnn(x, h_state)\n",
        "        hidden_size = hidden_state[-1].size(-1)\n",
        "        r_out = r_out.view(-1, self.num_directions, hidden_size)\n",
        "        outs = self.out(r_out)\n",
        "        \n",
        "        return outs, hidden_state"
      ],
      "execution_count": 390,
      "outputs": []
    },
    {
      "cell_type": "code",
      "metadata": {
        "id": "SwwPpVsK2bTQ"
      },
      "source": [
        "# Globals\n",
        "\n",
        "INPUT_SIZE = 7\n",
        "HIDDEN_SIZE = 64\n",
        "NUM_LAYERS = 3\n",
        "OUTPUT_SIZE = 1\n",
        "BATCH_SIZE = 128\n",
        "# Hyper parameters\n",
        "\n",
        "learning_rate = 0.001\n",
        "num_epochs = 300\n",
        "\n",
        "rnn = LSTM(INPUT_SIZE, HIDDEN_SIZE, NUM_LAYERS, OUTPUT_SIZE,bidirectional=False)\n",
        "#rnn.cuda() #to set up and run CUDA operations. It keeps track of the currently selected GPU\n",
        "optimiser = torch.optim.Adam(rnn.parameters(), lr=learning_rate)\n",
        "criterion = nn.MSELoss()\n",
        "\n",
        "hidden_state = None"
      ],
      "execution_count": 391,
      "outputs": []
    },
    {
      "cell_type": "code",
      "metadata": {
        "id": "BiQaghDCtNdg",
        "colab": {
          "base_uri": "https://localhost:8080/"
        },
        "outputId": "6c0455b1-c90d-4f37-c148-a8dfca64f33e"
      },
      "source": [
        "rnn"
      ],
      "execution_count": 392,
      "outputs": [
        {
          "output_type": "execute_result",
          "data": {
            "text/plain": [
              "LSTM(\n",
              "  (rnn): LSTM(7, 64, num_layers=3, dropout=0.1)\n",
              "  (out): Linear(in_features=64, out_features=1, bias=True)\n",
              ")"
            ]
          },
          "metadata": {},
          "execution_count": 392
        }
      ]
    },
    {
      "cell_type": "code",
      "metadata": {
        "id": "olY5dc_sQ345",
        "colab": {
          "base_uri": "https://localhost:8080/",
          "height": 89
        },
        "outputId": "cdf50f9b-88cf-4f92-8edc-e5a7e96cc192"
      },
      "source": [
        "\"\"\"\n",
        "class StockDataset(Dataset):\n",
        "    \n",
        "    def __init__(self, X_dataset, Y_dataset):\n",
        "        \n",
        "        self.X_dataset = torch.from_numpy(X_dataset)\n",
        "        self.Y_dataset = torch.from_numpy(Y_dataset)\n",
        "        \n",
        "    def __len__(self):\n",
        "        return np.shape(self.Y_dataset)[0]\n",
        "\n",
        "    def __getitem__(self, idx):\n",
        "        \n",
        "        sample = {'Sequence': self.X_dataset[:,idx,:], \"Target\": self.Y_dataset[idx]}\n",
        "      \n",
        "\n",
        "        return sample\n",
        "\"\"\""
      ],
      "execution_count": 393,
      "outputs": [
        {
          "output_type": "execute_result",
          "data": {
            "text/plain": [
              "'\\nclass StockDataset(Dataset):\\n    \\n    def __init__(self, X_dataset, Y_dataset):\\n        \\n        self.X_dataset = torch.from_numpy(X_dataset)\\n        self.Y_dataset = torch.from_numpy(Y_dataset)\\n        \\n    def __len__(self):\\n        return np.shape(self.Y_dataset)[0]\\n\\n    def __getitem__(self, idx):\\n        \\n        sample = {\\'Sequence\\': self.X_dataset[:,idx,:], \"Target\": self.Y_dataset[idx]}\\n      \\n\\n        return sample\\n'"
            ],
            "application/vnd.google.colaboratory.intrinsic+json": {
              "type": "string"
            }
          },
          "metadata": {},
          "execution_count": 393
        }
      ]
    },
    {
      "cell_type": "code",
      "metadata": {
        "id": "de3JU38uRp-S"
      },
      "source": [
        "# Train_ds=StockDataset(X_train, y_train)"
      ],
      "execution_count": 394,
      "outputs": []
    },
    {
      "cell_type": "code",
      "metadata": {
        "id": "QlRhF5JP2bTX",
        "colab": {
          "base_uri": "https://localhost:8080/"
        },
        "outputId": "644a5810-02f4-4501-f8ac-ebd204ae8bf9"
      },
      "source": [
        "\n",
        "history = []\n",
        "X_test_cuda = torch.tensor(X_test_list[3]).float()#.cuda()\n",
        "y_test_cuda = torch.tensor(y_test_list[3]).float()#.cuda()\n",
        "\n",
        "# we use all the data in one batch\n",
        "inputs_cuda = torch.tensor(X_train_list[3]).float()#.cuda()\n",
        "labels_cuda = torch.tensor(y_train_list[3]).float()#.cuda()\n",
        "\n",
        "for epoch in range(num_epochs):\n",
        "    rnn.train()\n",
        "    output, _ = rnn(inputs_cuda, hidden_state) \n",
        "    # print(output.size())\n",
        "\n",
        "    loss = criterion(output[:,0,:].view(-1), labels_cuda)\n",
        "    optimiser.zero_grad()\n",
        "    loss.backward(retain_graph=True)                    # back propagation\n",
        "    optimiser.step()                    # update the parameters\n",
        "    \n",
        "    if epoch % 20 == 0:\n",
        "        rnn.eval()\n",
        "        test_output, _ = rnn(X_test_cuda, hidden_state)\n",
        "        test_loss = criterion(test_output.view(-1), y_test_cuda)\n",
        "        print('epoch {}, loss {}, eval loss {}'.format(epoch, loss.item(), test_loss.item()))\n",
        "    else:\n",
        "        print('epoch {}, loss {}'.format(epoch, loss.item()))\n",
        "    history.append(loss.item())\n",
        "\n",
        "# train_inputs = torch.tensor(X_train).float().cuda()\n",
        "train_pred, hidden_state = rnn(inputs_cuda, None)\n",
        "train_pred_cpu = train_pred.cpu().detach().numpy()\n",
        "train_prediction = train_pred_cpu.reshape(-1,1)\n",
        "\n",
        "\n",
        "# use hidden state from previous training data\n",
        "test_predict, _ = rnn(X_test_cuda, hidden_state)\n",
        "test_predict_cpu = test_predict.cpu().detach().numpy()\n",
        "test_prediction = test_predict_cpu.reshape(-1,1)\n"
      ],
      "execution_count": 395,
      "outputs": [
        {
          "output_type": "stream",
          "name": "stdout",
          "text": [
            "epoch 0, loss 0.12021215260028839, eval loss 0.34818559885025024\n",
            "epoch 1, loss 0.10830539464950562\n",
            "epoch 2, loss 0.09838201850652695\n",
            "epoch 3, loss 0.08986063301563263\n",
            "epoch 4, loss 0.08225356787443161\n",
            "epoch 5, loss 0.0757393091917038\n",
            "epoch 6, loss 0.06974738836288452\n",
            "epoch 7, loss 0.06546077877283096\n",
            "epoch 8, loss 0.0621848963201046\n",
            "epoch 9, loss 0.06093747168779373\n",
            "epoch 10, loss 0.06006726622581482\n",
            "epoch 11, loss 0.058143217116594315\n",
            "epoch 12, loss 0.05405295640230179\n",
            "epoch 13, loss 0.048924971371889114\n",
            "epoch 14, loss 0.041781745851039886\n",
            "epoch 15, loss 0.033926673233509064\n",
            "epoch 16, loss 0.026504669338464737\n",
            "epoch 17, loss 0.01927441731095314\n",
            "epoch 18, loss 0.01303053181618452\n",
            "epoch 19, loss 0.008891286328434944\n",
            "epoch 20, loss 0.007423102390021086, eval loss 0.02683405578136444\n",
            "epoch 21, loss 0.0052963183261454105\n",
            "epoch 22, loss 0.004811803810298443\n",
            "epoch 23, loss 0.005852796602994204\n",
            "epoch 24, loss 0.006600580178201199\n",
            "epoch 25, loss 0.0062015182338654995\n",
            "epoch 26, loss 0.006559808272868395\n",
            "epoch 27, loss 0.006781944539397955\n",
            "epoch 28, loss 0.0058635808527469635\n",
            "epoch 29, loss 0.005326942540705204\n",
            "epoch 30, loss 0.004991067573428154\n",
            "epoch 31, loss 0.004327363334596157\n",
            "epoch 32, loss 0.003689790377393365\n",
            "epoch 33, loss 0.0030996825080364943\n",
            "epoch 34, loss 0.003004731610417366\n",
            "epoch 35, loss 0.003243101295083761\n",
            "epoch 36, loss 0.0028796554543077946\n",
            "epoch 37, loss 0.0024182426277548075\n",
            "epoch 38, loss 0.00291935121640563\n",
            "epoch 39, loss 0.003099441062659025\n",
            "epoch 40, loss 0.002715902868658304, eval loss 0.014634789898991585\n",
            "epoch 41, loss 0.0030179820023477077\n",
            "epoch 42, loss 0.0028248545713722706\n",
            "epoch 43, loss 0.0029345029033720493\n",
            "epoch 44, loss 0.0030030584894120693\n",
            "epoch 45, loss 0.002979056444019079\n",
            "epoch 46, loss 0.0025987981352955103\n",
            "epoch 47, loss 0.0025045094080269337\n",
            "epoch 48, loss 0.002521258546039462\n",
            "epoch 49, loss 0.0024682204239070415\n",
            "epoch 50, loss 0.002210044302046299\n",
            "epoch 51, loss 0.002217173110693693\n",
            "epoch 52, loss 0.002039054874330759\n",
            "epoch 53, loss 0.0020535674411803484\n",
            "epoch 54, loss 0.0020376350730657578\n",
            "epoch 55, loss 0.0019295461243018508\n",
            "epoch 56, loss 0.0019049671245738864\n",
            "epoch 57, loss 0.001839368836954236\n",
            "epoch 58, loss 0.001902795280329883\n",
            "epoch 59, loss 0.00200063013471663\n",
            "epoch 60, loss 0.0019475612789392471, eval loss 0.01295849122107029\n",
            "epoch 61, loss 0.0019112437730655074\n",
            "epoch 62, loss 0.0020657030399888754\n",
            "epoch 63, loss 0.001932293176651001\n",
            "epoch 64, loss 0.002035328885540366\n",
            "epoch 65, loss 0.0018307503778487444\n",
            "epoch 66, loss 0.0017354018054902554\n",
            "epoch 67, loss 0.001684860559180379\n",
            "epoch 68, loss 0.0017685435013845563\n",
            "epoch 69, loss 0.0018346766009926796\n",
            "epoch 70, loss 0.001660154084675014\n",
            "epoch 71, loss 0.0018923765746876597\n",
            "epoch 72, loss 0.0017337346216663718\n",
            "epoch 73, loss 0.0015900585567578673\n",
            "epoch 74, loss 0.0016902564093470573\n",
            "epoch 75, loss 0.0015684693353250623\n",
            "epoch 76, loss 0.0017289468087255955\n",
            "epoch 77, loss 0.0016697401879355311\n",
            "epoch 78, loss 0.001614296343177557\n",
            "epoch 79, loss 0.0016114707104861736\n",
            "epoch 80, loss 0.00158658844884485, eval loss 0.011782601475715637\n",
            "epoch 81, loss 0.0016438477905467153\n",
            "epoch 82, loss 0.0016389889642596245\n",
            "epoch 83, loss 0.0015054455725476146\n",
            "epoch 84, loss 0.001512630726210773\n",
            "epoch 85, loss 0.0014278064481914043\n",
            "epoch 86, loss 0.0015964505728334188\n",
            "epoch 87, loss 0.0015183133073151112\n",
            "epoch 88, loss 0.0015985179925337434\n",
            "epoch 89, loss 0.0015234999591484666\n",
            "epoch 90, loss 0.0015929961809888482\n",
            "epoch 91, loss 0.0015164001379162073\n",
            "epoch 92, loss 0.0014055372448638082\n",
            "epoch 93, loss 0.0015372073976323009\n",
            "epoch 94, loss 0.0014754118165001273\n",
            "epoch 95, loss 0.0013453949941322207\n",
            "epoch 96, loss 0.0013534913305193186\n",
            "epoch 97, loss 0.0014778429176658392\n",
            "epoch 98, loss 0.0012180128833279014\n",
            "epoch 99, loss 0.001346181845292449\n",
            "epoch 100, loss 0.0013531637378036976, eval loss 0.010129939764738083\n",
            "epoch 101, loss 0.0012656650505959988\n",
            "epoch 102, loss 0.0015020302962511778\n",
            "epoch 103, loss 0.0013921753270551562\n",
            "epoch 104, loss 0.0015061929589137435\n",
            "epoch 105, loss 0.0013884464278817177\n",
            "epoch 106, loss 0.0014249852392822504\n",
            "epoch 107, loss 0.0013819016749039292\n",
            "epoch 108, loss 0.0014995061792433262\n",
            "epoch 109, loss 0.0012827484169974923\n",
            "epoch 110, loss 0.001144562498666346\n",
            "epoch 111, loss 0.0012662919471040368\n",
            "epoch 112, loss 0.0014131024945527315\n",
            "epoch 113, loss 0.0015800417168065906\n",
            "epoch 114, loss 0.0014063974376767874\n",
            "epoch 115, loss 0.001527985674329102\n",
            "epoch 116, loss 0.0014120391570031643\n",
            "epoch 117, loss 0.001366754760965705\n",
            "epoch 118, loss 0.0012836182722821832\n",
            "epoch 119, loss 0.001321914023719728\n",
            "epoch 120, loss 0.0012956401333212852, eval loss 0.009424437768757343\n",
            "epoch 121, loss 0.0013776608975604177\n",
            "epoch 122, loss 0.0014259092276915908\n",
            "epoch 123, loss 0.00122545612975955\n",
            "epoch 124, loss 0.0013460202608257532\n",
            "epoch 125, loss 0.0014148220652714372\n",
            "epoch 126, loss 0.0012774068163707852\n",
            "epoch 127, loss 0.0014821939403191209\n",
            "epoch 128, loss 0.0013970390427857637\n",
            "epoch 129, loss 0.0015900918515399098\n",
            "epoch 130, loss 0.0012834753142669797\n",
            "epoch 131, loss 0.0013185162097215652\n",
            "epoch 132, loss 0.0011989654740318656\n",
            "epoch 133, loss 0.0012148418463766575\n",
            "epoch 134, loss 0.0012594223953783512\n",
            "epoch 135, loss 0.001379762077704072\n",
            "epoch 136, loss 0.0012189988046884537\n",
            "epoch 137, loss 0.0012549097882583737\n",
            "epoch 138, loss 0.0013252784265205264\n",
            "epoch 139, loss 0.0012439620913937688\n",
            "epoch 140, loss 0.0012567908270284534, eval loss 0.009660182520747185\n",
            "epoch 141, loss 0.0011960947886109352\n",
            "epoch 142, loss 0.0010279013076797128\n",
            "epoch 143, loss 0.0013375042472034693\n",
            "epoch 144, loss 0.0013741765869781375\n",
            "epoch 145, loss 0.0012823635479435325\n",
            "epoch 146, loss 0.0012286436976864934\n",
            "epoch 147, loss 0.001299876137636602\n",
            "epoch 148, loss 0.00115989672485739\n",
            "epoch 149, loss 0.0012272815220057964\n",
            "epoch 150, loss 0.0012420425191521645\n",
            "epoch 151, loss 0.0011472136247903109\n",
            "epoch 152, loss 0.0011062691919505596\n",
            "epoch 153, loss 0.001180727849714458\n",
            "epoch 154, loss 0.0012703576358035207\n",
            "epoch 155, loss 0.00123125733807683\n",
            "epoch 156, loss 0.0011889251181855798\n",
            "epoch 157, loss 0.0011561523424461484\n",
            "epoch 158, loss 0.00123217876534909\n",
            "epoch 159, loss 0.0011933821951970458\n",
            "epoch 160, loss 0.0012539359740912914, eval loss 0.008844477124512196\n",
            "epoch 161, loss 0.0011559324339032173\n",
            "epoch 162, loss 0.0011472082696855068\n",
            "epoch 163, loss 0.001350686652585864\n",
            "epoch 164, loss 0.001356797176413238\n",
            "epoch 165, loss 0.0011421357048675418\n",
            "epoch 166, loss 0.0011756600579246879\n",
            "epoch 167, loss 0.001215659431181848\n",
            "epoch 168, loss 0.001207337831147015\n",
            "epoch 169, loss 0.0010161432437598705\n",
            "epoch 170, loss 0.0010684399167075753\n",
            "epoch 171, loss 0.0011275912402197719\n",
            "epoch 172, loss 0.001088345772586763\n",
            "epoch 173, loss 0.0010731103830039501\n",
            "epoch 174, loss 0.0011217448627576232\n",
            "epoch 175, loss 0.0010719751007854939\n",
            "epoch 176, loss 0.0010372551623731852\n",
            "epoch 177, loss 0.0010465733939781785\n",
            "epoch 178, loss 0.0011123258154839277\n",
            "epoch 179, loss 0.0012636001920327544\n",
            "epoch 180, loss 0.0012261451920494437, eval loss 0.008545536547899246\n",
            "epoch 181, loss 0.0009848230984061956\n",
            "epoch 182, loss 0.0011803661473095417\n",
            "epoch 183, loss 0.0011795273749157786\n",
            "epoch 184, loss 0.001105038565583527\n",
            "epoch 185, loss 0.0012425247114151716\n",
            "epoch 186, loss 0.0010697157122194767\n",
            "epoch 187, loss 0.0010891497367992997\n",
            "epoch 188, loss 0.0009495081612840295\n",
            "epoch 189, loss 0.0012808501487597823\n",
            "epoch 190, loss 0.001149316900409758\n",
            "epoch 191, loss 0.0012357770465314388\n",
            "epoch 192, loss 0.0011514712823554873\n",
            "epoch 193, loss 0.0010860812617465854\n",
            "epoch 194, loss 0.0013061556965112686\n",
            "epoch 195, loss 0.0010819865856319666\n",
            "epoch 196, loss 0.0013043925864621997\n",
            "epoch 197, loss 0.001100822351872921\n",
            "epoch 198, loss 0.0011055098148062825\n",
            "epoch 199, loss 0.0010772101813927293\n",
            "epoch 200, loss 0.0010971501469612122, eval loss 0.008342694491147995\n",
            "epoch 201, loss 0.0010306988842785358\n",
            "epoch 202, loss 0.0011030749883502722\n",
            "epoch 203, loss 0.0009953028056770563\n",
            "epoch 204, loss 0.0011977334506809711\n",
            "epoch 205, loss 0.0009687145357020199\n",
            "epoch 206, loss 0.001080881105735898\n",
            "epoch 207, loss 0.0010461006313562393\n",
            "epoch 208, loss 0.001092691207304597\n",
            "epoch 209, loss 0.0010274671949446201\n",
            "epoch 210, loss 0.0010878833709284663\n",
            "epoch 211, loss 0.0010638358071446419\n",
            "epoch 212, loss 0.0009712231694720685\n",
            "epoch 213, loss 0.0011580236023291945\n",
            "epoch 214, loss 0.0009994959691539407\n",
            "epoch 215, loss 0.0011567072942852974\n",
            "epoch 216, loss 0.0010343268513679504\n",
            "epoch 217, loss 0.0010340528097003698\n",
            "epoch 218, loss 0.0010091497097164392\n",
            "epoch 219, loss 0.000927981804125011\n",
            "epoch 220, loss 0.0010262081632390618, eval loss 0.007528973277658224\n",
            "epoch 221, loss 0.0009916904382407665\n",
            "epoch 222, loss 0.0009797925595194101\n",
            "epoch 223, loss 0.0010477507021278143\n",
            "epoch 224, loss 0.0009969938546419144\n",
            "epoch 225, loss 0.0011225369526073337\n",
            "epoch 226, loss 0.000982734840363264\n",
            "epoch 227, loss 0.0010087062837556005\n",
            "epoch 228, loss 0.0009681623196229339\n",
            "epoch 229, loss 0.0008953358046710491\n",
            "epoch 230, loss 0.0010566858109086752\n",
            "epoch 231, loss 0.001016115420497954\n",
            "epoch 232, loss 0.0011097806273028255\n",
            "epoch 233, loss 0.0010561553062871099\n",
            "epoch 234, loss 0.000998675124719739\n",
            "epoch 235, loss 0.0009595748852007091\n",
            "epoch 236, loss 0.0010162604739889503\n",
            "epoch 237, loss 0.0009191129938699305\n",
            "epoch 238, loss 0.001053398591466248\n",
            "epoch 239, loss 0.0009346220758743584\n",
            "epoch 240, loss 0.0008954442455433309, eval loss 0.007553453557193279\n",
            "epoch 241, loss 0.0010263986187055707\n",
            "epoch 242, loss 0.0010882483329623938\n",
            "epoch 243, loss 0.000849669158924371\n",
            "epoch 244, loss 0.0010613438207656145\n",
            "epoch 245, loss 0.0009683194220997393\n",
            "epoch 246, loss 0.0009367914171889424\n",
            "epoch 247, loss 0.0009235432371497154\n",
            "epoch 248, loss 0.0008755603921599686\n",
            "epoch 249, loss 0.0010587159777060151\n",
            "epoch 250, loss 0.0010197433875873685\n",
            "epoch 251, loss 0.0009208172559738159\n",
            "epoch 252, loss 0.0009918301366269588\n",
            "epoch 253, loss 0.0010298332199454308\n",
            "epoch 254, loss 0.0009724184637889266\n",
            "epoch 255, loss 0.0009982959600165486\n",
            "epoch 256, loss 0.0008468826417811215\n",
            "epoch 257, loss 0.0009678504429757595\n",
            "epoch 258, loss 0.0008179348078556359\n",
            "epoch 259, loss 0.0010113823227584362\n",
            "epoch 260, loss 0.000860916159581393, eval loss 0.007509301882237196\n",
            "epoch 261, loss 0.0010725350584834814\n",
            "epoch 262, loss 0.0009317171643488109\n",
            "epoch 263, loss 0.0009509943192824721\n",
            "epoch 264, loss 0.000923062558285892\n",
            "epoch 265, loss 0.0009266329579986632\n",
            "epoch 266, loss 0.0009189846459776163\n",
            "epoch 267, loss 0.0008903295383788645\n",
            "epoch 268, loss 0.0009139695903286338\n",
            "epoch 269, loss 0.001008458435535431\n",
            "epoch 270, loss 0.0009318087832070887\n",
            "epoch 271, loss 0.0009104293421842158\n",
            "epoch 272, loss 0.0009588968241587281\n",
            "epoch 273, loss 0.0009067298378795385\n",
            "epoch 274, loss 0.000937562610488385\n",
            "epoch 275, loss 0.0008572546648792922\n",
            "epoch 276, loss 0.0010186198633164167\n",
            "epoch 277, loss 0.001016506226733327\n",
            "epoch 278, loss 0.0010377656435593963\n",
            "epoch 279, loss 0.0008340523345395923\n",
            "epoch 280, loss 0.0009104330674745142, eval loss 0.007362176664173603\n",
            "epoch 281, loss 0.0009057553834281862\n",
            "epoch 282, loss 0.000944667321164161\n",
            "epoch 283, loss 0.0009858743287622929\n",
            "epoch 284, loss 0.0009048468200489879\n",
            "epoch 285, loss 0.0009002664010040462\n",
            "epoch 286, loss 0.0008030724711716175\n",
            "epoch 287, loss 0.001026103738695383\n",
            "epoch 288, loss 0.0008660866878926754\n",
            "epoch 289, loss 0.0009043750469572842\n",
            "epoch 290, loss 0.0010779460426419973\n",
            "epoch 291, loss 0.0009411798091605306\n",
            "epoch 292, loss 0.001120199216529727\n",
            "epoch 293, loss 0.000845012255012989\n",
            "epoch 294, loss 0.0009892435045912862\n",
            "epoch 295, loss 0.0008262399933300912\n",
            "epoch 296, loss 0.0007610173779539764\n",
            "epoch 297, loss 0.0010923476656898856\n",
            "epoch 298, loss 0.0008634637924842536\n",
            "epoch 299, loss 0.0009869277710095048\n"
          ]
        }
      ]
    },
    {
      "cell_type": "code",
      "source": [
        "train_prediction.shape"
      ],
      "metadata": {
        "colab": {
          "base_uri": "https://localhost:8080/"
        },
        "id": "7wNAf06p6Lgn",
        "outputId": "fb0172f0-e90b-4bb2-82f3-0d9c961ef5d8"
      },
      "execution_count": 396,
      "outputs": [
        {
          "output_type": "execute_result",
          "data": {
            "text/plain": [
              "(1009, 1)"
            ]
          },
          "metadata": {},
          "execution_count": 396
        }
      ]
    },
    {
      "cell_type": "code",
      "source": [
        "test_prediction.shape"
      ],
      "metadata": {
        "colab": {
          "base_uri": "https://localhost:8080/"
        },
        "id": "dFr2bH946Nny",
        "outputId": "c4d4500d-8bc4-47b6-ec51-5962d267c771"
      },
      "execution_count": 397,
      "outputs": [
        {
          "output_type": "execute_result",
          "data": {
            "text/plain": [
              "(253, 1)"
            ]
          },
          "metadata": {},
          "execution_count": 397
        }
      ]
    },
    {
      "cell_type": "markdown",
      "metadata": {
        "id": "PY0wF6e46-JE"
      },
      "source": [
        "## Step 5: Checking model performance\n",
        "\n",
        "With our model fit we can now make predictions on both our training and testing sets."
      ]
    },
    {
      "cell_type": "code",
      "metadata": {
        "id": "6dygBlig6_XD",
        "colab": {
          "base_uri": "https://localhost:8080/",
          "height": 283
        },
        "outputId": "ddace60f-60ee-4b06-9b3c-ec5f39c88472"
      },
      "source": [
        "plt.plot(history)\n",
        "# dplt.plot(history.history['val_loss'])"
      ],
      "execution_count": 398,
      "outputs": [
        {
          "output_type": "execute_result",
          "data": {
            "text/plain": [
              "[<matplotlib.lines.Line2D at 0x7fcb2fcae880>]"
            ]
          },
          "metadata": {},
          "execution_count": 398
        },
        {
          "output_type": "display_data",
          "data": {
            "text/plain": [
              "<Figure size 432x288 with 1 Axes>"
            ],
            "image/png": "[encoded data removed]"
          },
          "metadata": {
            "needs_background": "light"
          }
        }
      ]
    },
    {
      "cell_type": "code",
      "metadata": {
        "id": "ScaBHhTv7Jih",
        "colab": {
          "base_uri": "https://localhost:8080/"
        },
        "outputId": "51f334e8-72ce-4f64-85d7-8555618796b9"
      },
      "source": [
        "X_test[0]"
      ],
      "execution_count": 399,
      "outputs": [
        {
          "output_type": "execute_result",
          "data": {
            "text/plain": [
              "array([[0.93273682, 0.88125944, 0.86164659, 0.83004165, 0.85613625,\n",
              "        0.86139534, 0.89641707]])"
            ]
          },
          "metadata": {},
          "execution_count": 399
        }
      ]
    },
    {
      "cell_type": "code",
      "metadata": {
        "id": "hyICDKXa7Vbe"
      },
      "source": [
        "# X_train_X_test = np.concatenate((X_train, X_test),axis=0)\n",
        "# hidden_state = None\n",
        "rnn.eval()\n",
        "# test_inputs = torch.tensor(X_test).float().cuda()\n",
        "test_predict, _ = rnn(X_test_cuda, hidden_state)\n",
        "test_predict_cpu = test_predict.cpu().detach().numpy()"
      ],
      "execution_count": 400,
      "outputs": []
    },
    {
      "cell_type": "code",
      "metadata": {
        "id": "FwD_e6VO-cIa",
        "colab": {
          "base_uri": "https://localhost:8080/"
        },
        "outputId": "1c7c64b0-9bbf-4780-ffa9-ed5090d94832"
      },
      "source": [
        "test_predict_cpu.shape"
      ],
      "execution_count": 401,
      "outputs": [
        {
          "output_type": "execute_result",
          "data": {
            "text/plain": [
              "(253, 1, 1)"
            ]
          },
          "metadata": {},
          "execution_count": 401
        }
      ]
    },
    {
      "cell_type": "code",
      "metadata": {
        "id": "c-__h1sU7kW6",
        "colab": {
          "base_uri": "https://localhost:8080/",
          "height": 283
        },
        "outputId": "420c36f0-7174-446b-a284-9a86dd8fcec3"
      },
      "source": [
        "plt.plot(sc.inverse_transform(y_test.reshape(-1,1)))\n",
        "plt.plot(sc.inverse_transform(test_predict_cpu.reshape(-1,1)))"
      ],
      "execution_count": 402,
      "outputs": [
        {
          "output_type": "execute_result",
          "data": {
            "text/plain": [
              "[<matplotlib.lines.Line2D at 0x7fcb2fe25fa0>]"
            ]
          },
          "metadata": {},
          "execution_count": 402
        },
        {
          "output_type": "display_data",
          "data": {
            "text/plain": [
              "<Figure size 432x288 with 1 Axes>"
            ],
            "image/png": "[encoded data removed]"
          },
          "metadata": {
            "needs_background": "light"
          }
        }
      ]
    },
    {
      "cell_type": "code",
      "source": [
        "split_pt = int(X_list[0].shape[0] * 0.80) + 7\n",
        "split_pt"
      ],
      "metadata": {
        "colab": {
          "base_uri": "https://localhost:8080/"
        },
        "id": "m69mJUDI6aC3",
        "outputId": "b353cb76-3ea8-4e15-a985-90edb68ebfcb"
      },
      "execution_count": 403,
      "outputs": [
        {
          "output_type": "execute_result",
          "data": {
            "text/plain": [
              "1016"
            ]
          },
          "metadata": {},
          "execution_count": 403
        }
      ]
    },
    {
      "cell_type": "code",
      "metadata": {
        "id": "LnMGQ5Sa8vMs",
        "colab": {
          "base_uri": "https://localhost:8080/",
          "height": 279
        },
        "outputId": "5b133016-8745-4a23-c7ce-18ef32b51202"
      },
      "source": [
        "# plot original data\n",
        "plt.plot(sc.inverse_transform(y.reshape(-1,1)), color='k')\n",
        "\n",
        "# # train_inputs = torch.tensor(X_train).float().cuda()\n",
        "# train_pred, hidden_state = rnn(inputs_cuda, None)\n",
        "# train_pred_cpu = train_pred.cpu().detach().numpy()\n",
        "\n",
        "# # use hidden state from previous training data\n",
        "# test_predict, _ = rnn(X_test_cuda, hidden_state)\n",
        "# test_predict_cpu = test_predict.cpu().detach().numpy()\n",
        "\n",
        "# plt.plot(scl.inverse_transform(y_test.reshape(-1,1)))\n",
        "split_pt = int(X_list[0].shape[0] * 0.80) + 7 # window_size\n",
        "plt.plot(np.arange(7, split_pt, 1), sc.inverse_transform(train_prediction), color='b')\n",
        "plt.plot(np.arange(split_pt, split_pt + len(test_predict_cpu), 1), sc.inverse_transform(test_prediction), color='r')\n",
        "\n",
        "# pretty up graph\n",
        "plt.xlabel('day')\n",
        "plt.ylabel('price of TSLA stock')\n",
        "plt.legend(['original series','training fit','testing fit'], loc='center left', bbox_to_anchor=(1, 0.5))\n",
        "plt.show()"
      ],
      "execution_count": 404,
      "outputs": [
        {
          "output_type": "display_data",
          "data": {
            "text/plain": [
              "<Figure size 432x288 with 1 Axes>"
            ],
            "image/png": "[encoded data removed]"
          },
          "metadata": {
            "needs_background": "light"
          }
        }
      ]
    },
    {
      "cell_type": "code",
      "source": [
        "from sklearn.metrics import mean_squared_error\n",
        "\n",
        "train_prediction = train_pred_cpu.reshape(-1,1)\n",
        "test_prediction = test_predict_cpu.reshape(-1,1)\n",
        "print('Stock TSLA:')\n",
        "print(\"The MSE for training data is \" + str(mean_squared_error(train_prediction,y_train)))\n",
        "print(\"The MSE for testing data is \" + str(mean_squared_error(test_prediction,y_test)))"
      ],
      "metadata": {
        "colab": {
          "base_uri": "https://localhost:8080/"
        },
        "id": "J8JwTDi1InLK",
        "outputId": "e470b467-281e-4c71-c358-c3e9861b5673"
      },
      "execution_count": 405,
      "outputs": [
        {
          "output_type": "stream",
          "name": "stdout",
          "text": [
            "Stock TSLA:\n",
            "The MSE for training data is 0.0008728720345798156\n",
            "The MSE for testing data is 0.002600343577032937\n"
          ]
        }
      ]
    },
    {
      "cell_type": "code",
      "source": [],
      "metadata": {
        "id": "MdTO-XO_dDQF"
      },
      "execution_count": 405,
      "outputs": []
    }
  ]
}