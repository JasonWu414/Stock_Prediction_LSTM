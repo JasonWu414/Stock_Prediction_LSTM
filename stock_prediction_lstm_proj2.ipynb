{
  "cells": [
    {
      "cell_type": "markdown",
      "metadata": {
        "id": "vGbT1dgk2h0D"
      },
      "source": [
        "# Stock Prediction RNN \n",
        "\n",
        "In this project, I perform a time series prediction using a Recurrent Neural Network regressor. For this example, I will predict Apple's stock price 7 days in advance.\n",
        "\n",
        "The particular network architecture I will employ for my RNN is a  [Long Term Short Memory (LTSM)](https://en.wikipedia.org/wiki/Long_short-term_memory), which helps significantly avoid technical problems with optimization of RNNs."
      ]
    },
    {
      "cell_type": "markdown",
      "metadata": {
        "id": "vwPba0Jg2bSX"
      },
      "source": [
        "# Pytorch LSTM Stock Predictor\n",
        "\n",
        "This is a Pytorch version of the original Keras LSTM Stock Predictor provided by [Super DataScience](https://www.superdatascience.com/deep-learning/), and also available elsewhere in this repo as a notebook."
      ]
    },
    {
      "cell_type": "markdown",
      "metadata": {
        "id": "boG82OJt2n4g"
      },
      "source": [
        "## Step 1: Loading the data\n",
        "\n",
        "First let's load in our time series - a history of around 140 days of Apple's stock price. Then we need to perform a number of pre-processing steps to prepare it for use with an RNN model.  First off, it is good practice to normalize time series - by normalizing its range.  This helps us avoid serious numerical issues associated how common activation functions (like tanh) transform very large (positive or negative) numbers, as well as helping us to avoid related issues when computing derivatives.\n",
        "\n",
        "Here we normalize the series to lie in the range [0,1] [using this scikit function](http://scikit-learn.org/stable/modules/generated/sklearn.preprocessing.MinMaxScaler.html)."
      ]
    },
    {
      "cell_type": "code",
      "execution_count": 127,
      "metadata": {
        "colab": {
          "base_uri": "https://localhost:8080/",
          "height": 204
        },
        "id": "6k-jrLoP20Fm",
        "outputId": "5192e325-ce27-4d29-deac-452dcc1c1813"
      },
      "outputs": [],
      "source": [
        "# download the data\n",
        "#!wget https://raw.githubusercontent.com/tonylaioffer/stock-prediction-lstm-using-keras/master/data/sandp500/all_stocks_5yr.csv"
      ]
    },
    {
      "cell_type": "code",
      "execution_count": 128,
      "metadata": {
        "colab": {
          "base_uri": "https://localhost:8080/",
          "height": 34
        },
        "id": "3-8wHDYS28-m",
        "outputId": "8eeeef6b-abf9-4bcf-e720-0fb5e53489f0"
      },
      "outputs": [],
      "source": [
        "#!ls ."
      ]
    },
    {
      "cell_type": "code",
      "execution_count": 129,
      "metadata": {
        "id": "lC_2yxKR2bSe"
      },
      "outputs": [],
      "source": [
        "import numpy as np\n",
        "import pandas as pd\n",
        "import matplotlib.pyplot as plt\n",
        "\n",
        "import torch.nn as nn\n",
        "import torch\n",
        "from torch.autograd import Variable\n",
        "from torch.utils.data import Dataset, DataLoader"
      ]
    },
    {
      "cell_type": "code",
      "execution_count": 130,
      "metadata": {
        "id": "BvFrixdV2bSw"
      },
      "outputs": [],
      "source": [
        "# Importing the training set\n",
        "dataset = data = pd.read_csv('https://raw.githubusercontent.com/tonylaioffer/stock-prediction-lstm-using-keras/master/data/sandp500/all_stocks_5yr.csv')\n",
        "dataset_cl = dataset[dataset['Name']=='AAL'].close.values\n",
        "\n",
        "# dataset_train = pd.read_csv('Google_Stock_Price_Train.csv')\n",
        "# training_set = dataset_train.iloc[:, 1:2].values"
      ]
    },
    {
      "cell_type": "code",
      "execution_count": 131,
      "metadata": {},
      "outputs": [
        {
          "data": {
            "text/plain": [
              "(1259,)"
            ]
          },
          "execution_count": 131,
          "metadata": {},
          "output_type": "execute_result"
        }
      ],
      "source": [
        "dataset_cl.shape"
      ]
    },
    {
      "cell_type": "code",
      "execution_count": 132,
      "metadata": {
        "id": "XFvN25Yj3w9r"
      },
      "outputs": [],
      "source": [
        "# Feature Scaling\n",
        "from sklearn.preprocessing import MinMaxScaler\n",
        "\n",
        "sc = MinMaxScaler(feature_range = (0, 1))\n",
        "\n",
        "# scale the data\n",
        "dataset_cl = dataset_cl.reshape(dataset_cl.shape[0], 1)\n",
        "dataset_cl = sc.fit_transform(dataset_cl)"
      ]
    },
    {
      "cell_type": "markdown",
      "metadata": {
        "id": "UURKEshg3g0G"
      },
      "source": [
        "## Step 2:  Cutting our time series into sequences\n",
        "\n",
        "Remember, our time series is a sequence of numbers that we can represent in general mathematically as \n",
        "\n",
        "$$s_{0},s_{1},s_{2},...,s_{P}$$\n",
        "\n",
        "where $s_{p}$ is the numerical value of the time series at time period $p$ and where $P$ is the total length of the series.  In order to apply our RNN we treat the time series prediction problem as a regression problem, and so need to use a sliding window to construct a set of associated input/output pairs to regress on.  This process is animated in the gif below.\n",
        "\n",
        "<img src=\"https://github.com/tonylaioffer/stock-prediction-lstm-using-keras/raw/master/images/timeseries_windowing_training.gif\" width=600 height=288/>\n",
        "\n",
        "For example - using a window of size T = 5 (as illustrated in the gif above) we produce a set of input/output pairs like the one shown in the table below\n",
        "\n",
        "$$\\begin{array}{c|c}\n",
        "\\text{Input} & \\text{Output}\\\\\n",
        "\\hline \\color{CornflowerBlue} {\\langle s_{1},s_{2},s_{3},s_{4},s_{5}\\rangle} & \\color{Goldenrod}{ s_{6}} \\\\\n",
        "\\ \\color{CornflowerBlue} {\\langle s_{2},s_{3},s_{4},s_{5},s_{6} \\rangle } & \\color{Goldenrod} {s_{7} } \\\\\n",
        "\\color{CornflowerBlue}  {\\vdots} & \\color{Goldenrod} {\\vdots}\\\\\n",
        "\\color{CornflowerBlue} { \\langle s_{P-5},s_{P-4},s_{P-3},s_{P-2},s_{P-1} \\rangle } & \\color{Goldenrod} {s_{P}}\n",
        "\\end{array}$$\n",
        "\n",
        "Notice here that each input is a sequence (or vector) of length 4 (and in general has length equal to the window size T) while each corresponding output is a scalar value.  Notice also how given a time series of length P and window size T = 5 as shown above, we created P - 5  input/output pairs.  More generally, for a window size T we create P - T such pairs.\n",
        "\n",
        "Now let's window the input time series as described above!  "
      ]
    },
    {
      "cell_type": "code",
      "execution_count": 133,
      "metadata": {
        "id": "pvBLqRvm4L6k"
      },
      "outputs": [],
      "source": [
        "#Create a function to process the data into 7 day look back slices\n",
        "def processData(data, lb):\n",
        "    X, Y = [], []\n",
        "    for i in range(len(data) - lb - 1):\n",
        "        X.append(data[i: (i + lb), 0])\n",
        "        Y.append(data[(i + lb), 0])\n",
        "    return np.array(X), np.array(Y)\n",
        "X, y = processData(dataset_cl, 7)\n"
      ]
    },
    {
      "cell_type": "code",
      "execution_count": 134,
      "metadata": {},
      "outputs": [
        {
          "data": {
            "text/plain": [
              "array([[0.03806381, 0.03168317, 0.02750275, ..., 0.02134213, 0.03256326,\n",
              "        0.02728273],\n",
              "       [0.03168317, 0.02750275, 0.03608361, ..., 0.03256326, 0.02728273,\n",
              "        0.00682068],\n",
              "       [0.02750275, 0.03608361, 0.02134213, ..., 0.02728273, 0.00682068,\n",
              "        0.00770077],\n",
              "       ...,\n",
              "       [0.9190319 , 0.88074807, 0.88118812, ..., 0.87062706, 0.90869087,\n",
              "        0.8990099 ],\n",
              "       [0.88074807, 0.88118812, 0.87260726, ..., 0.90869087, 0.8990099 ,\n",
              "        0.85984598],\n",
              "       [0.88118812, 0.87260726, 0.87062706, ..., 0.8990099 , 0.85984598,\n",
              "        0.80836084]])"
            ]
          },
          "execution_count": 134,
          "metadata": {},
          "output_type": "execute_result"
        }
      ],
      "source": [
        "# every 7 days for one group \n",
        "X"
      ]
    },
    {
      "cell_type": "code",
      "execution_count": 135,
      "metadata": {},
      "outputs": [
        {
          "data": {
            "text/plain": [
              "array([0.00682068, 0.00770077, 0.01210121, ..., 0.85984598, 0.80836084,\n",
              "       0.83960396])"
            ]
          },
          "execution_count": 135,
          "metadata": {},
          "output_type": "execute_result"
        }
      ],
      "source": [
        "# every 8th days for prediction\n",
        "y"
      ]
    },
    {
      "cell_type": "markdown",
      "metadata": {
        "id": "yHsQGQ_V42G0"
      },
      "source": [
        "## Step 3: Split training and testing sets\n",
        "\n",
        "In order to perform proper testing on our dataset we will lop off the last 1/3 of it for validation (or testing).  \n",
        "\n",
        "Note how here we are **not** splitting the dataset *randomly* as one typically would do when validating a regression model.  This is because our input/output pairs *are related temporally*.   We don't want to validate our model by training on a random subset of the series and then testing on another random subset, as this simulates the scenario that we receive new points *within the timeframe of our training set*.  \n",
        "\n",
        "We want to train on one solid chunk of the series (in our case, the first full 2/3 of it), and validate on a later chunk (the last 1/3) as this simulates how we would predict *future* values of a time series."
      ]
    },
    {
      "cell_type": "code",
      "execution_count": 136,
      "metadata": {
        "colab": {
          "base_uri": "https://localhost:8080/",
          "height": 85
        },
        "id": "syFXDlpn45xA",
        "outputId": "0c2dc915-8290-4971-c336-374ff9bf6d9a"
      },
      "outputs": [
        {
          "name": "stdout",
          "output_type": "stream",
          "text": [
            "1000\n",
            "251\n",
            "1000\n",
            "251\n"
          ]
        }
      ],
      "source": [
        "X_train, X_test = X[:int(X.shape[0]*0.80)],X[int(X.shape[0]*0.80):] # take 80% as train, 20% as test\n",
        "y_train, y_test = y[:int(y.shape[0]*0.80)],y[int(y.shape[0]*0.80):]\n",
        "print(X_train.shape[0])\n",
        "print(X_test.shape[0])\n",
        "print(y_train.shape[0])\n",
        "print(y_test.shape[0])\n",
        "\n",
        "# reshaping\n",
        "X_train = np.reshape(X_train, (X_train.shape[0], 1, X_train.shape[1]))\n",
        "X_test = np.reshape(X_test, (X_test.shape[0], 1, X_test.shape[1]))"
      ]
    },
    {
      "cell_type": "code",
      "execution_count": 137,
      "metadata": {
        "id": "oPfVnOcm2bTF"
      },
      "outputs": [],
      "source": [
        "# Reshaping\n",
        "# X_train = np.reshape(X_train, (X_train.shape[0], 1, X_train.shape[1]))"
      ]
    },
    {
      "attachments": {},
      "cell_type": "markdown",
      "metadata": {
        "id": "GMXggue15R41"
      },
      "source": [
        "## Step 4:  Build and run an LSTM regression model"
      ]
    },
    {
      "cell_type": "code",
      "execution_count": 138,
      "metadata": {
        "id": "HNWryPPg2bTM"
      },
      "outputs": [],
      "source": [
        "class RNN(nn.Module):\n",
        "    def __init__(self, i_size, h_size, n_layers, o_size, dropout=0.1, bidirectional=True):\n",
        "        super(RNN, self).__init__()\n",
        "        self.num_directions = bidirectional+1\n",
        "        self.rnn = nn.LSTM(\n",
        "            input_size=i_size,\n",
        "            hidden_size=h_size,\n",
        "            num_layers=n_layers,\n",
        "            dropout=dropout,\n",
        "            bidirectional=bidirectional\n",
        "        )\n",
        "        self.out = nn.Linear(h_size, o_size)\n",
        "\n",
        "    def forward(self, x, h_state): #forward method is that you can invoke it by calling the model\n",
        "        r_out, hidden_state = self.rnn(x, h_state)\n",
        "        hidden_size = hidden_state[-1].size(-1)\n",
        "        r_out = r_out.view(-1, self.num_directions, hidden_size)\n",
        "        outs = self.out(r_out)\n",
        "        \n",
        "        return outs, hidden_state"
      ]
    },
    {
      "cell_type": "code",
      "execution_count": 139,
      "metadata": {
        "id": "SwwPpVsK2bTQ"
      },
      "outputs": [],
      "source": [
        "# Globals\n",
        "INPUT_SIZE = 7\n",
        "HIDDEN_SIZE = 64\n",
        "NUM_LAYERS = 3\n",
        "OUTPUT_SIZE = 1\n",
        "BATCH_SIZE = 128\n",
        "\n",
        "# Hyper parameters\n",
        "learning_rate = 0.001\n",
        "num_epochs = 300\n",
        "\n",
        "rnn = RNN(INPUT_SIZE, HIDDEN_SIZE, NUM_LAYERS, OUTPUT_SIZE,bidirectional=False)\n",
        "#rnn.cuda()\n",
        "\n",
        "optimiser = torch.optim.Adam(rnn.parameters(), lr=learning_rate)\n",
        "criterion = nn.MSELoss()\n",
        "\n",
        "hidden_state = None"
      ]
    },
    {
      "cell_type": "code",
      "execution_count": 140,
      "metadata": {
        "colab": {
          "base_uri": "https://localhost:8080/",
          "height": 1000
        },
        "id": "QlRhF5JP2bTX",
        "outputId": "cc0ea2f0-eb12-4174-a5cb-fd77e37ea887"
      },
      "outputs": [
        {
          "name": "stdout",
          "output_type": "stream",
          "text": [
            "epoch 0, loss 0.4271516799926758, eval loss 0.7375483512878418\n",
            "epoch 1, loss 0.39848241209983826\n",
            "epoch 2, loss 0.3708029091358185\n",
            "epoch 3, loss 0.34328246116638184\n",
            "epoch 4, loss 0.31431615352630615\n",
            "epoch 5, loss 0.2836788296699524\n",
            "epoch 6, loss 0.2502467632293701\n",
            "epoch 7, loss 0.21287551522254944\n",
            "epoch 8, loss 0.17253082990646362\n",
            "epoch 9, loss 0.1267899125814438\n",
            "epoch 10, loss 0.08028991520404816\n",
            "epoch 11, loss 0.039797015488147736\n",
            "epoch 12, loss 0.02760065160691738\n",
            "epoch 13, loss 0.06704956293106079\n",
            "epoch 14, loss 0.08749760687351227\n",
            "epoch 15, loss 0.07045198976993561\n",
            "epoch 16, loss 0.046278711408376694\n",
            "epoch 17, loss 0.031445082277059555\n",
            "epoch 18, loss 0.026416584849357605\n",
            "epoch 19, loss 0.028690742328763008\n",
            "epoch 20, loss 0.033586569130420685, eval loss 0.09381791204214096\n",
            "epoch 21, loss 0.03805529698729515\n",
            "epoch 22, loss 0.0408029668033123\n",
            "epoch 23, loss 0.04198567569255829\n",
            "epoch 24, loss 0.04076937958598137\n",
            "epoch 25, loss 0.0379573293030262\n",
            "epoch 26, loss 0.03437362611293793\n",
            "epoch 27, loss 0.029229987412691116\n",
            "epoch 28, loss 0.02475808560848236\n",
            "epoch 29, loss 0.021273402497172356\n",
            "epoch 30, loss 0.019482243806123734\n",
            "epoch 31, loss 0.019449930638074875\n",
            "epoch 32, loss 0.020678963512182236\n",
            "epoch 33, loss 0.02168085426092148\n",
            "epoch 34, loss 0.022843260318040848\n",
            "epoch 35, loss 0.021420659497380257\n",
            "epoch 36, loss 0.018684031441807747\n",
            "epoch 37, loss 0.015320629812777042\n",
            "epoch 38, loss 0.012796096503734589\n",
            "epoch 39, loss 0.011563971638679504\n",
            "epoch 40, loss 0.011112525127828121, eval loss 0.02585025504231453\n",
            "epoch 41, loss 0.011525210924446583\n",
            "epoch 42, loss 0.01088421419262886\n",
            "epoch 43, loss 0.01051393523812294\n",
            "epoch 44, loss 0.009355003014206886\n",
            "epoch 45, loss 0.007961984723806381\n",
            "epoch 46, loss 0.006280811503529549\n",
            "epoch 47, loss 0.005261233542114496\n",
            "epoch 48, loss 0.005172379314899445\n",
            "epoch 49, loss 0.005524501204490662\n",
            "epoch 50, loss 0.00594281917437911\n",
            "epoch 51, loss 0.005612330511212349\n",
            "epoch 52, loss 0.00447983480989933\n",
            "epoch 53, loss 0.0038018759805709124\n",
            "epoch 54, loss 0.003884440753608942\n",
            "epoch 55, loss 0.004579179920256138\n",
            "epoch 56, loss 0.004868845455348492\n",
            "epoch 57, loss 0.00443861773237586\n",
            "epoch 58, loss 0.004189252853393555\n",
            "epoch 59, loss 0.0037727728486061096\n",
            "epoch 60, loss 0.0039390698075294495, eval loss 0.011322655715048313\n",
            "epoch 61, loss 0.0041697071865201\n",
            "epoch 62, loss 0.004289739299565554\n",
            "epoch 63, loss 0.0040513151325285435\n",
            "epoch 64, loss 0.003586768638342619\n",
            "epoch 65, loss 0.0034750981722027063\n",
            "epoch 66, loss 0.0036298155318945646\n",
            "epoch 67, loss 0.003763628890737891\n",
            "epoch 68, loss 0.0038657537661492825\n",
            "epoch 69, loss 0.003472600830718875\n",
            "epoch 70, loss 0.003349711885675788\n",
            "epoch 71, loss 0.003325816709548235\n",
            "epoch 72, loss 0.003204196458682418\n",
            "epoch 73, loss 0.0032843893859535456\n",
            "epoch 74, loss 0.0032612874638289213\n",
            "epoch 75, loss 0.0032801611814647913\n",
            "epoch 76, loss 0.0030915194656699896\n",
            "epoch 77, loss 0.003233748022466898\n",
            "epoch 78, loss 0.003210233524441719\n",
            "epoch 79, loss 0.003055674023926258\n",
            "epoch 80, loss 0.0033383083064109087, eval loss 0.011989613994956017\n",
            "epoch 81, loss 0.0033403111156076193\n",
            "epoch 82, loss 0.003114252118393779\n",
            "epoch 83, loss 0.0031572761945426464\n",
            "epoch 84, loss 0.003128887852653861\n",
            "epoch 85, loss 0.0031798777636140585\n",
            "epoch 86, loss 0.003283780300989747\n",
            "epoch 87, loss 0.0030116308480501175\n",
            "epoch 88, loss 0.0032653992529958487\n",
            "epoch 89, loss 0.003079328453168273\n",
            "epoch 90, loss 0.00304022547788918\n",
            "epoch 91, loss 0.0031149324495345354\n",
            "epoch 92, loss 0.0031157396733760834\n",
            "epoch 93, loss 0.0032782291527837515\n",
            "epoch 94, loss 0.003157220548018813\n",
            "epoch 95, loss 0.0031273600179702044\n",
            "epoch 96, loss 0.002993256552144885\n",
            "epoch 97, loss 0.0029297538567334414\n",
            "epoch 98, loss 0.003105615731328726\n",
            "epoch 99, loss 0.0028904895298182964\n",
            "epoch 100, loss 0.0031006219796836376, eval loss 0.010673809796571732\n",
            "epoch 101, loss 0.0029951701872050762\n",
            "epoch 102, loss 0.0031381931621581316\n",
            "epoch 103, loss 0.0030067767947912216\n",
            "epoch 104, loss 0.0030378359369933605\n",
            "epoch 105, loss 0.0030596123542636633\n",
            "epoch 106, loss 0.0029348754324018955\n",
            "epoch 107, loss 0.0027632827404886484\n",
            "epoch 108, loss 0.002907475456595421\n",
            "epoch 109, loss 0.0030912219081074\n",
            "epoch 110, loss 0.002819063840433955\n",
            "epoch 111, loss 0.0028942141216248274\n",
            "epoch 112, loss 0.003191283205524087\n",
            "epoch 113, loss 0.002907089190557599\n",
            "epoch 114, loss 0.002987523563206196\n",
            "epoch 115, loss 0.0028112754225730896\n",
            "epoch 116, loss 0.0029117350932210684\n",
            "epoch 117, loss 0.0029781314078718424\n",
            "epoch 118, loss 0.0028924152720719576\n",
            "epoch 119, loss 0.0028288497123867273\n",
            "epoch 120, loss 0.002875786740332842, eval loss 0.010337931104004383\n",
            "epoch 121, loss 0.003014894435182214\n",
            "epoch 122, loss 0.0029720684979110956\n",
            "epoch 123, loss 0.002848246367648244\n",
            "epoch 124, loss 0.0027045244351029396\n",
            "epoch 125, loss 0.0027835085056722164\n",
            "epoch 126, loss 0.0030741894152015448\n",
            "epoch 127, loss 0.003089041681960225\n",
            "epoch 128, loss 0.0029424543026834726\n",
            "epoch 129, loss 0.0028292599599808455\n",
            "epoch 130, loss 0.0030014761723577976\n",
            "epoch 131, loss 0.0028142957016825676\n",
            "epoch 132, loss 0.0028265241999179125\n",
            "epoch 133, loss 0.0030442620627582073\n",
            "epoch 134, loss 0.0027217029128223658\n",
            "epoch 135, loss 0.0028617039788514376\n",
            "epoch 136, loss 0.002802983857691288\n",
            "epoch 137, loss 0.002817814704030752\n",
            "epoch 138, loss 0.0027288931887596846\n",
            "epoch 139, loss 0.0027254142332822084\n",
            "epoch 140, loss 0.0027997372671961784, eval loss 0.010118233971297741\n",
            "epoch 141, loss 0.002791666192933917\n",
            "epoch 142, loss 0.0028601305093616247\n",
            "epoch 143, loss 0.002793477848172188\n",
            "epoch 144, loss 0.002655620686709881\n",
            "epoch 145, loss 0.0026833268348127604\n",
            "epoch 146, loss 0.0027945542242377996\n",
            "epoch 147, loss 0.002854694379493594\n",
            "epoch 148, loss 0.0025142838712781668\n",
            "epoch 149, loss 0.0029644975438714027\n",
            "epoch 150, loss 0.0026729125529527664\n",
            "epoch 151, loss 0.0026968764141201973\n",
            "epoch 152, loss 0.0027417403180152178\n",
            "epoch 153, loss 0.0027827767189592123\n",
            "epoch 154, loss 0.002635422395542264\n",
            "epoch 155, loss 0.002738203387707472\n",
            "epoch 156, loss 0.002873453078791499\n",
            "epoch 157, loss 0.002755027264356613\n",
            "epoch 158, loss 0.002653823234140873\n",
            "epoch 159, loss 0.0025743013247847557\n",
            "epoch 160, loss 0.0026830057613551617, eval loss 0.00974738784134388\n",
            "epoch 161, loss 0.0028486857190728188\n",
            "epoch 162, loss 0.0028606324922293425\n",
            "epoch 163, loss 0.002805759897455573\n",
            "epoch 164, loss 0.002680776407942176\n",
            "epoch 165, loss 0.0028410200029611588\n",
            "epoch 166, loss 0.0025257691740989685\n",
            "epoch 167, loss 0.002615969395264983\n",
            "epoch 168, loss 0.002794674364849925\n",
            "epoch 169, loss 0.002786821685731411\n",
            "epoch 170, loss 0.0026027208659797907\n",
            "epoch 171, loss 0.0025738603435456753\n",
            "epoch 172, loss 0.002564104972407222\n",
            "epoch 173, loss 0.0026116895023733377\n",
            "epoch 174, loss 0.0026519233360886574\n",
            "epoch 175, loss 0.002664220752194524\n",
            "epoch 176, loss 0.0027662243228405714\n",
            "epoch 177, loss 0.0027886980678886175\n",
            "epoch 178, loss 0.002773560583591461\n",
            "epoch 179, loss 0.002628915710374713\n",
            "epoch 180, loss 0.002711745910346508, eval loss 0.009484495967626572\n",
            "epoch 181, loss 0.0026603101287037134\n",
            "epoch 182, loss 0.002672465518116951\n",
            "epoch 183, loss 0.0027152313850820065\n",
            "epoch 184, loss 0.0026251289527863264\n",
            "epoch 185, loss 0.0026993853971362114\n",
            "epoch 186, loss 0.0026151493657380342\n",
            "epoch 187, loss 0.0025715548545122147\n",
            "epoch 188, loss 0.002728974912315607\n",
            "epoch 189, loss 0.0026368622202426195\n",
            "epoch 190, loss 0.0025979906786233187\n",
            "epoch 191, loss 0.0027744360268115997\n",
            "epoch 192, loss 0.0026198027189821005\n",
            "epoch 193, loss 0.0027185948565602303\n",
            "epoch 194, loss 0.0024255281314253807\n",
            "epoch 195, loss 0.0025183656252920628\n",
            "epoch 196, loss 0.0025378933642059565\n",
            "epoch 197, loss 0.002741985023021698\n",
            "epoch 198, loss 0.0027560291346162558\n",
            "epoch 199, loss 0.002540492918342352\n",
            "epoch 200, loss 0.0025376882404088974, eval loss 0.009226549416780472\n",
            "epoch 201, loss 0.0024940180592238903\n",
            "epoch 202, loss 0.002799219684675336\n",
            "epoch 203, loss 0.0026386843528598547\n",
            "epoch 204, loss 0.00255385460332036\n",
            "epoch 205, loss 0.002507175784558058\n",
            "epoch 206, loss 0.0025129516143351793\n",
            "epoch 207, loss 0.002678407123312354\n",
            "epoch 208, loss 0.002761085983365774\n",
            "epoch 209, loss 0.002537892200052738\n",
            "epoch 210, loss 0.0025889109820127487\n",
            "epoch 211, loss 0.002621424151584506\n",
            "epoch 212, loss 0.0025350037030875683\n",
            "epoch 213, loss 0.002532349666580558\n",
            "epoch 214, loss 0.002521633403375745\n",
            "epoch 215, loss 0.0024438919499516487\n",
            "epoch 216, loss 0.0024503355380147696\n",
            "epoch 217, loss 0.0026254476979374886\n",
            "epoch 218, loss 0.002495003631338477\n",
            "epoch 219, loss 0.0024149122182279825\n",
            "epoch 220, loss 0.0025016937870532274, eval loss 0.008964399807155132\n",
            "epoch 221, loss 0.002506815129891038\n",
            "epoch 222, loss 0.0025301645509898663\n",
            "epoch 223, loss 0.0026217433623969555\n",
            "epoch 224, loss 0.00266369734890759\n",
            "epoch 225, loss 0.0023967167362570763\n",
            "epoch 226, loss 0.0025855882558971643\n",
            "epoch 227, loss 0.0025555070023983717\n",
            "epoch 228, loss 0.002552022924646735\n",
            "epoch 229, loss 0.002558283042162657\n",
            "epoch 230, loss 0.0024063370656222105\n",
            "epoch 231, loss 0.002476960653439164\n",
            "epoch 232, loss 0.0026211822405457497\n",
            "epoch 233, loss 0.002397323027253151\n",
            "epoch 234, loss 0.002371725393459201\n",
            "epoch 235, loss 0.0025861754547804594\n",
            "epoch 236, loss 0.0024677712935954332\n",
            "epoch 237, loss 0.0024900627322494984\n",
            "epoch 238, loss 0.00254304357804358\n",
            "epoch 239, loss 0.0025211249012500048\n",
            "epoch 240, loss 0.002523361472412944, eval loss 0.00868149008601904\n",
            "epoch 241, loss 0.002267926698550582\n",
            "epoch 242, loss 0.002459651557728648\n",
            "epoch 243, loss 0.0022762841545045376\n",
            "epoch 244, loss 0.0025835647247731686\n",
            "epoch 245, loss 0.0023734269198030233\n",
            "epoch 246, loss 0.002337547717615962\n",
            "epoch 247, loss 0.002395640593022108\n",
            "epoch 248, loss 0.0024604497011750937\n",
            "epoch 249, loss 0.00233961408957839\n",
            "epoch 250, loss 0.0022851491812616587\n",
            "epoch 251, loss 0.0024432947393506765\n",
            "epoch 252, loss 0.002479500137269497\n",
            "epoch 253, loss 0.0024107217323035\n",
            "epoch 254, loss 0.0024145948700606823\n",
            "epoch 255, loss 0.0024002923164516687\n",
            "epoch 256, loss 0.002450027968734503\n",
            "epoch 257, loss 0.002459918148815632\n",
            "epoch 258, loss 0.0023646410554647446\n",
            "epoch 259, loss 0.002408775268122554\n",
            "epoch 260, loss 0.0023862922098487616, eval loss 0.008455364964902401\n",
            "epoch 261, loss 0.00242683757096529\n",
            "epoch 262, loss 0.002523039234802127\n",
            "epoch 263, loss 0.002332658739760518\n",
            "epoch 264, loss 0.002437697956338525\n",
            "epoch 265, loss 0.002324456349015236\n",
            "epoch 266, loss 0.0023839769419282675\n",
            "epoch 267, loss 0.002559436485171318\n",
            "epoch 268, loss 0.0023965807631611824\n",
            "epoch 269, loss 0.0023224768228828907\n",
            "epoch 270, loss 0.0022427772637456656\n",
            "epoch 271, loss 0.0023845520336180925\n",
            "epoch 272, loss 0.0024762023240327835\n",
            "epoch 273, loss 0.0025018490850925446\n",
            "epoch 274, loss 0.0022662105038762093\n",
            "epoch 275, loss 0.0024023018777370453\n",
            "epoch 276, loss 0.002387720625847578\n",
            "epoch 277, loss 0.0024402861017733812\n",
            "epoch 278, loss 0.0023461664095520973\n",
            "epoch 279, loss 0.0023045670241117477\n",
            "epoch 280, loss 0.0023225711192935705, eval loss 0.0081794373691082\n",
            "epoch 281, loss 0.0024820135440677404\n",
            "epoch 282, loss 0.0023130280897021294\n",
            "epoch 283, loss 0.0024653004948049784\n",
            "epoch 284, loss 0.002381525468081236\n",
            "epoch 285, loss 0.0022037141025066376\n",
            "epoch 286, loss 0.002337611513212323\n",
            "epoch 287, loss 0.0022679963149130344\n",
            "epoch 288, loss 0.0022664726711809635\n",
            "epoch 289, loss 0.0023566940799355507\n",
            "epoch 290, loss 0.0023731740657240152\n",
            "epoch 291, loss 0.002432178473100066\n",
            "epoch 292, loss 0.00229209428653121\n",
            "epoch 293, loss 0.0022528418339788914\n",
            "epoch 294, loss 0.002408000873401761\n",
            "epoch 295, loss 0.0022937762551009655\n",
            "epoch 296, loss 0.002235705964267254\n",
            "epoch 297, loss 0.0021696321200579405\n",
            "epoch 298, loss 0.002179444534704089\n",
            "epoch 299, loss 0.002568204654380679\n"
          ]
        }
      ],
      "source": [
        "history = []\n",
        "X_test_cuda = torch.tensor(X_test).float() #.cuda()\n",
        "y_test_cuda = torch.tensor(y_test).float() #.cuda()\n",
        "\n",
        "# we use all the data in one batch\n",
        "inputs_cuda = torch.tensor(X_train).float() #.cuda()   #torch.Size([1000, 1, 7])\n",
        "labels_cuda = torch.tensor(y_train).float() #.cuda()   #torch.Size([1000])\n",
        "\n",
        "for epoch in range(num_epochs):\n",
        "    \n",
        "    \n",
        "    # model.train() tells your model that you are training the model. \n",
        "    # This helps inform layers such as Dropout and BatchNorm, which are designed to behave differently during training and evaluation. \n",
        "    # For instance, in training mode, BatchNorm updates a moving average on each new batch; whereas, for evaluation mode, these updates are frozen.\n",
        "    rnn.train() \n",
        "\n",
        "    #defualt hidden_state is none\n",
        "    output, _ = rnn(inputs_cuda, hidden_state) \n",
        "\n",
        "    #.view(-1) flatten the tensor so it can compare with labels_cuda's shape which is [1000]\n",
        "    #output shape is torch.Size([1000, 1, 1]) so use [:,0,:]\n",
        "    loss = criterion(output[:,0,:].view(-1), labels_cuda) \n",
        "\n",
        "    optimiser.zero_grad()               # set gradients back to 0 otherwise gradients added up\n",
        "    loss.backward()                     # back propagation\n",
        "    optimiser.step()                    # update the parameters\n",
        "\n",
        "    #print eval info for visualization \n",
        "    if epoch % 20 == 0:\n",
        "        #model.eval() is a kind of switch for some specific layers/parts of the model that behave differently during training and inference (evaluating) time. \n",
        "        #For example, Dropouts Layers, BatchNorm Layers etc. You need to turn off them during model evaluation, and .eval() will do it for you.\n",
        "        rnn.eval() \n",
        "        test_output, _ = rnn(X_test_cuda, hidden_state)\n",
        "        test_loss = criterion(test_output.view(-1), y_test_cuda)\n",
        "        print('epoch {}, loss {}, eval loss {}'.format(epoch, loss.item(), test_loss.item()))\n",
        "    else:\n",
        "        print('epoch {}, loss {}'.format(epoch, loss.item()))\n",
        "    history.append(loss.item())"
      ]
    },
    {
      "cell_type": "code",
      "execution_count": 141,
      "metadata": {
        "colab": {
          "base_uri": "https://localhost:8080/",
          "height": 187
        },
        "id": "7jxit4ppO9Q4",
        "outputId": "41e9fbc8-73c2-484f-a362-ce1dcec59864"
      },
      "outputs": [
        {
          "name": "stdout",
          "output_type": "stream",
          "text": [
            "Parameter containing:\n",
            "tensor([[ 0.0534, -0.0704, -0.1246, -0.0926,  0.0375,  0.1107, -0.0648, -0.0087,\n",
            "         -0.0878,  0.0311,  0.1045, -0.1008, -0.0888,  0.1174, -0.1263, -0.0899,\n",
            "         -0.0737,  0.0170,  0.1078, -0.0658,  0.0153,  0.0030,  0.0948,  0.0682,\n",
            "         -0.0939,  0.0321,  0.0906, -0.0542, -0.0745, -0.0113, -0.0427, -0.0163,\n",
            "          0.1071, -0.0170, -0.0105, -0.0360,  0.0389, -0.0455,  0.0249,  0.0843,\n",
            "          0.0257,  0.0853, -0.0323, -0.1042, -0.0192, -0.0041,  0.0409, -0.0205,\n",
            "         -0.1231, -0.0329, -0.0911,  0.1076,  0.0537,  0.0863, -0.0248, -0.0647,\n",
            "         -0.0221, -0.0394,  0.0847, -0.1027, -0.0579,  0.0455, -0.0653,  0.0102]],\n",
            "       requires_grad=True)\n",
            "torch.Size([1, 64])\n"
          ]
        }
      ],
      "source": [
        "print(rnn.out.weight)\n",
        "print(rnn.out.weight.shape)"
      ]
    },
    {
      "cell_type": "code",
      "execution_count": 142,
      "metadata": {
        "colab": {
          "base_uri": "https://localhost:8080/",
          "height": 1000
        },
        "id": "4SysHfTsOtPz",
        "outputId": "57c05788-0ee8-44ae-c708-321d0faa008a"
      },
      "outputs": [
        {
          "name": "stdout",
          "output_type": "stream",
          "text": [
            "tensor([[ 0.0358, -0.0176,  0.1273,  ..., -0.0766, -0.0594, -0.0849],\n",
            "        [-0.0555, -0.1029,  0.0046,  ..., -0.0611,  0.0259,  0.0908],\n",
            "        [-0.0247,  0.0835,  0.0439,  ...,  0.0560,  0.1324, -0.0815],\n",
            "        ...,\n",
            "        [ 0.1058,  0.1073, -0.0948,  ..., -0.0075,  0.1164,  0.1042],\n",
            "        [-0.1169, -0.1301, -0.0740,  ...,  0.0593, -0.1080, -0.0093],\n",
            "        [-0.0746,  0.1325,  0.0080,  ...,  0.0964,  0.0311,  0.0873]])\n",
            "tensor([[ 1.3168e-01,  3.8938e-02,  6.6755e-02,  ..., -1.1841e-01,\n",
            "          3.1625e-05,  8.2589e-03],\n",
            "        [ 1.0775e-01, -5.9327e-02, -6.4406e-02,  ..., -1.0605e-01,\n",
            "          9.3259e-02,  1.6778e-02],\n",
            "        [ 7.4933e-02,  1.2386e-01,  2.8556e-02,  ..., -1.2762e-01,\n",
            "         -6.8820e-02,  8.7425e-02],\n",
            "        ...,\n",
            "        [-3.3941e-02,  7.6576e-02,  4.4654e-02,  ..., -2.6345e-02,\n",
            "          8.2693e-02, -6.5332e-02],\n",
            "        [-1.0608e-01,  8.9755e-02,  6.8586e-02,  ...,  2.6473e-02,\n",
            "         -8.1559e-02,  6.4020e-02],\n",
            "        [ 9.8709e-02, -8.2312e-02,  6.2704e-03,  ..., -3.9086e-02,\n",
            "         -3.8666e-02,  2.4533e-02]])\n",
            "tensor([-0.0237, -0.0402,  0.1076,  0.0877, -0.0470, -0.1098,  0.0276,  0.0805,\n",
            "        -0.0547, -0.0572, -0.0065,  0.0739,  0.0330, -0.0100, -0.0171,  0.1000,\n",
            "         0.0859, -0.0344, -0.1166,  0.0930, -0.0698, -0.0792, -0.0350, -0.0053,\n",
            "         0.0138, -0.0238, -0.0914,  0.0231, -0.0269,  0.0780, -0.0377,  0.0857,\n",
            "        -0.0102, -0.0658, -0.0678,  0.0669, -0.0555,  0.1324,  0.0481,  0.0883,\n",
            "         0.0758, -0.1062,  0.0025,  0.0626, -0.0088,  0.1203,  0.0216, -0.0904,\n",
            "         0.0073, -0.1350,  0.0717,  0.0561,  0.1296, -0.0959,  0.0206,  0.1148,\n",
            "         0.0286,  0.0343, -0.0206, -0.0536, -0.0137,  0.0863,  0.0370,  0.0928,\n",
            "         0.0876,  0.1121, -0.0220, -0.0694, -0.0618,  0.0195, -0.0912,  0.0346,\n",
            "         0.1234,  0.0965,  0.0388, -0.0046, -0.0059,  0.0397,  0.0368, -0.1096,\n",
            "        -0.0046, -0.0365, -0.0056,  0.0325,  0.0685, -0.1117,  0.0207,  0.1028,\n",
            "         0.0726, -0.0963,  0.0633, -0.0724,  0.0652, -0.0064,  0.0092,  0.0972,\n",
            "         0.1193,  0.0680, -0.0616,  0.0366,  0.0043,  0.1261, -0.0577, -0.0288,\n",
            "        -0.0442,  0.0374,  0.0765, -0.0991, -0.0345,  0.0460, -0.0606, -0.1157,\n",
            "         0.0101, -0.1112, -0.0753, -0.0651,  0.0757,  0.0473, -0.0051,  0.0905,\n",
            "         0.0387, -0.0009,  0.0970,  0.0409, -0.0586,  0.0180,  0.0557, -0.1052,\n",
            "         0.0788,  0.0945,  0.0711, -0.1004,  0.0603,  0.0950, -0.1038,  0.0980,\n",
            "         0.1078, -0.0485,  0.0708, -0.0423,  0.1108,  0.1125, -0.1086, -0.0560,\n",
            "        -0.1156, -0.0839,  0.0521, -0.0317, -0.1113, -0.0947,  0.0236, -0.0793,\n",
            "         0.0291, -0.0192,  0.1028, -0.0376,  0.0957,  0.0088,  0.0550,  0.0635,\n",
            "        -0.0934, -0.0908,  0.0753, -0.0807, -0.0772,  0.0214, -0.1092, -0.0839,\n",
            "        -0.0072, -0.1246,  0.0823, -0.1264,  0.0050, -0.0985, -0.0705,  0.0179,\n",
            "         0.1148,  0.0255, -0.0011, -0.0452, -0.1214, -0.0605, -0.0671, -0.0108,\n",
            "        -0.0404,  0.0268,  0.0149, -0.0502,  0.0093, -0.0485, -0.0763,  0.0703,\n",
            "        -0.0249,  0.0842, -0.0010, -0.0515, -0.0078,  0.1130,  0.0765,  0.1299,\n",
            "        -0.0981,  0.1211,  0.0854, -0.0641,  0.1159,  0.0523,  0.1397, -0.1119,\n",
            "         0.0483,  0.0434, -0.0358,  0.1656,  0.0770, -0.0336,  0.0841, -0.0946,\n",
            "         0.0489, -0.0965, -0.0675, -0.0558, -0.0871, -0.1278,  0.0055, -0.0032,\n",
            "        -0.0609,  0.0216,  0.1302,  0.0914,  0.0653, -0.0699, -0.0098,  0.0410,\n",
            "        -0.0423,  0.0598,  0.1298,  0.1018, -0.0225,  0.0953,  0.0547,  0.0492,\n",
            "         0.0103,  0.0022,  0.1417,  0.0335,  0.1154, -0.1281, -0.1127,  0.0582,\n",
            "         0.1333,  0.0210,  0.1136,  0.0586,  0.0394, -0.0585, -0.0563, -0.1207])\n",
            "tensor([-0.0640,  0.0652, -0.0700, -0.1234,  0.0827,  0.0736,  0.1634,  0.1203,\n",
            "        -0.1069, -0.0400,  0.0785, -0.0740, -0.0687,  0.1180,  0.0120,  0.0871,\n",
            "        -0.0890, -0.0855,  0.0661,  0.1624,  0.0421, -0.0902,  0.0881,  0.0240,\n",
            "        -0.0612, -0.1227,  0.0377,  0.1401, -0.0700, -0.0500, -0.1035,  0.1500,\n",
            "        -0.0351,  0.0681, -0.0076,  0.0786, -0.0505, -0.0061, -0.0351, -0.0410,\n",
            "         0.0447, -0.0457, -0.0588, -0.0706,  0.0784, -0.0304, -0.0868, -0.0348,\n",
            "        -0.0724,  0.0319,  0.1212, -0.0145,  0.0788, -0.0338,  0.0368, -0.0013,\n",
            "        -0.0978, -0.0400,  0.1208,  0.0395, -0.0154,  0.0210, -0.0560, -0.1230,\n",
            "         0.0429, -0.0439,  0.0160, -0.0238,  0.0978, -0.0659, -0.0092,  0.0507,\n",
            "        -0.0886,  0.0050, -0.0285, -0.0124,  0.0119,  0.1303,  0.0309,  0.0427,\n",
            "         0.0130, -0.0839, -0.0784, -0.0378, -0.0698, -0.0173,  0.0717, -0.0860,\n",
            "        -0.0139,  0.1182,  0.0957,  0.0053,  0.0126, -0.0721, -0.0817,  0.0078,\n",
            "         0.1053, -0.0715,  0.1194,  0.1098,  0.0034,  0.0875,  0.0228, -0.1067,\n",
            "        -0.1084, -0.0499, -0.0583, -0.0514, -0.0719, -0.0642, -0.0029,  0.0110,\n",
            "        -0.0943, -0.0659, -0.0795, -0.0362, -0.0700, -0.0088,  0.0746,  0.0208,\n",
            "        -0.0019, -0.0580, -0.0646,  0.0710,  0.0068,  0.0138,  0.0321,  0.0927,\n",
            "         0.1162,  0.1212, -0.0520, -0.0322, -0.0823,  0.0931, -0.0963, -0.0849,\n",
            "         0.0768, -0.0670,  0.1160, -0.0281, -0.1196, -0.0756, -0.0438, -0.0043,\n",
            "         0.0957,  0.0759, -0.1049, -0.0898, -0.0210, -0.0519,  0.0506,  0.0468,\n",
            "         0.0653, -0.0017,  0.0769,  0.0455,  0.0058,  0.0801, -0.0095, -0.1190,\n",
            "        -0.0162,  0.0082, -0.0357, -0.1128,  0.0047,  0.0217, -0.0860,  0.0131,\n",
            "         0.0207, -0.1081, -0.1198,  0.0685,  0.1167,  0.0394, -0.0251,  0.0581,\n",
            "        -0.0198, -0.0802, -0.0665, -0.0501, -0.0610, -0.0136,  0.0297,  0.0110,\n",
            "         0.0453, -0.0183, -0.1209, -0.1051, -0.0763, -0.1087,  0.0496,  0.0784,\n",
            "        -0.1125,  0.0705, -0.0567,  0.0685, -0.0446, -0.0513,  0.1132,  0.0401,\n",
            "         0.0951, -0.0021, -0.0851, -0.0733,  0.1041, -0.0701,  0.1673,  0.0975,\n",
            "        -0.1129, -0.1015,  0.1026,  0.0126,  0.0596, -0.0285,  0.0316,  0.0269,\n",
            "        -0.0498, -0.0604, -0.1286, -0.0186, -0.0495, -0.0450,  0.0152, -0.0655,\n",
            "         0.0509,  0.0694,  0.0192,  0.0231, -0.0734,  0.0187, -0.0155,  0.0210,\n",
            "         0.1255,  0.1281, -0.0907, -0.0696, -0.0887,  0.1084, -0.0892,  0.0403,\n",
            "         0.0675, -0.0277,  0.1615, -0.0022,  0.0831,  0.0885, -0.0162,  0.0514,\n",
            "         0.0021, -0.1191, -0.0037,  0.1138, -0.0394,  0.0430, -0.0351, -0.0631])\n",
            "tensor([[-0.0242, -0.0647, -0.0763,  ..., -0.1323,  0.0604, -0.1113],\n",
            "        [-0.1122,  0.0049,  0.0297,  ..., -0.0154, -0.0817,  0.1297],\n",
            "        [-0.0551, -0.0883,  0.0166,  ...,  0.0436, -0.0178,  0.0178],\n",
            "        ...,\n",
            "        [ 0.1054, -0.0219,  0.0895,  ..., -0.0926, -0.0023, -0.0665],\n",
            "        [ 0.0141, -0.0073,  0.1303,  ..., -0.0324, -0.0685, -0.1158],\n",
            "        [-0.0132, -0.0691,  0.0176,  ...,  0.1168, -0.0423,  0.1206]])\n",
            "tensor([[-0.0558, -0.0756,  0.0466,  ...,  0.1087,  0.0030,  0.0632],\n",
            "        [ 0.0524, -0.0810,  0.0165,  ..., -0.0993, -0.1143,  0.0873],\n",
            "        [-0.0383,  0.0028,  0.0063,  ..., -0.1153, -0.0989, -0.1105],\n",
            "        ...,\n",
            "        [ 0.0098,  0.0927, -0.1319,  ...,  0.0369, -0.1149, -0.0554],\n",
            "        [ 0.0431,  0.0131, -0.1072,  ..., -0.1149, -0.1152, -0.0778],\n",
            "        [ 0.0363, -0.0483, -0.0625,  ...,  0.0480,  0.0857, -0.0225]])\n",
            "tensor([-0.0740,  0.1285,  0.1119,  0.1091, -0.0527, -0.0322,  0.0687,  0.0533,\n",
            "         0.0873, -0.0821,  0.0960,  0.0759,  0.1081,  0.0916,  0.0275,  0.1231,\n",
            "        -0.0981,  0.0260, -0.1366, -0.0952,  0.0846,  0.1012,  0.0501,  0.0380,\n",
            "        -0.0411, -0.0489, -0.0495,  0.0786, -0.0317,  0.0956,  0.0777, -0.0989,\n",
            "         0.0072, -0.0863, -0.0716,  0.1259, -0.0195,  0.0228,  0.1252,  0.0419,\n",
            "        -0.0197, -0.0704, -0.0636, -0.0875, -0.0287, -0.0925,  0.1071,  0.0565,\n",
            "         0.0094, -0.0665,  0.0620, -0.1149, -0.0957, -0.0551, -0.0515,  0.0892,\n",
            "         0.0220, -0.0420,  0.0790, -0.0743,  0.0437,  0.1207,  0.0209, -0.0794,\n",
            "         0.0639,  0.1196, -0.0298,  0.0148, -0.0272,  0.0037, -0.0492,  0.0622,\n",
            "         0.0694,  0.0662, -0.0288, -0.1026,  0.0068, -0.0679,  0.0873,  0.1015,\n",
            "         0.0807,  0.1162, -0.1399,  0.1197,  0.0648,  0.0910,  0.1015,  0.0752,\n",
            "        -0.0731,  0.1639, -0.0187,  0.0477, -0.0131, -0.0267, -0.0859, -0.0628,\n",
            "         0.0614,  0.0837,  0.1161, -0.0732, -0.0448,  0.0551,  0.1092,  0.0602,\n",
            "        -0.0906,  0.1001, -0.0204, -0.0513,  0.1255,  0.0699,  0.0344,  0.0128,\n",
            "        -0.0877, -0.0969,  0.1248, -0.0241, -0.0588, -0.0891, -0.0582, -0.0165,\n",
            "         0.0992, -0.0154, -0.1396, -0.0118, -0.0179,  0.0474, -0.0678, -0.0406,\n",
            "         0.0153, -0.1151, -0.1122, -0.1213,  0.0889,  0.1101, -0.0257,  0.0188,\n",
            "         0.0095, -0.0849, -0.0268, -0.1074, -0.1171, -0.0542,  0.0175, -0.1320,\n",
            "         0.0261, -0.0250,  0.0256,  0.0515,  0.0332, -0.0271, -0.0787, -0.0895,\n",
            "         0.0722, -0.0769,  0.0615,  0.0661, -0.0051,  0.0950, -0.0525, -0.0473,\n",
            "        -0.0588, -0.0736,  0.1145,  0.0742,  0.1137,  0.0951, -0.0683, -0.0496,\n",
            "        -0.1156,  0.0021,  0.0112, -0.0890,  0.0328, -0.0161,  0.1178,  0.0761,\n",
            "        -0.0720,  0.0725,  0.1165,  0.0328, -0.0723, -0.0765,  0.0379, -0.0388,\n",
            "        -0.1206, -0.0888, -0.0141, -0.1185, -0.1088,  0.0813,  0.0248, -0.0452,\n",
            "         0.0749, -0.0344, -0.0453,  0.0958,  0.0546, -0.0287, -0.0045,  0.0083,\n",
            "         0.0174,  0.0965, -0.0568, -0.0466, -0.0006, -0.1121, -0.0190, -0.0944,\n",
            "         0.0037,  0.0892,  0.0036,  0.1128, -0.0719,  0.0141, -0.0199, -0.0468,\n",
            "         0.0958, -0.0118,  0.0160,  0.0171, -0.0994, -0.0718,  0.1223,  0.0659,\n",
            "        -0.0153,  0.0939, -0.1085, -0.0970,  0.0603, -0.0507,  0.0373, -0.0492,\n",
            "        -0.0078,  0.0486,  0.0122,  0.0780, -0.0363, -0.0856, -0.0873,  0.1139,\n",
            "        -0.0161,  0.0609, -0.1171, -0.0834,  0.0445, -0.0999,  0.0416, -0.0185,\n",
            "        -0.0983, -0.0398, -0.0277,  0.1078,  0.1036, -0.1049,  0.0190,  0.0636])\n",
            "tensor([ 6.8765e-02, -8.2821e-02,  6.8429e-02,  9.7484e-02, -9.3507e-02,\n",
            "        -7.2921e-02,  6.9453e-03, -9.8019e-02, -1.2156e-02,  6.0870e-02,\n",
            "        -4.1472e-02, -3.1629e-02, -8.6811e-02, -6.2413e-02,  1.1966e-02,\n",
            "         1.9733e-02, -1.3499e-02,  2.5853e-02, -7.2329e-02,  1.0107e-01,\n",
            "        -9.2342e-02,  4.0514e-02,  6.5651e-02,  5.5579e-03,  9.9462e-02,\n",
            "         1.5680e-01,  5.7147e-03, -8.5969e-02, -4.9509e-03, -9.9011e-02,\n",
            "         1.2585e-01, -8.5500e-02, -5.7157e-02, -8.1451e-02, -1.0655e-01,\n",
            "         4.3685e-02, -7.7918e-02,  5.5884e-02,  9.0081e-03, -4.1230e-02,\n",
            "        -7.2854e-02,  5.8560e-02, -6.8096e-02,  4.2545e-04, -4.8739e-02,\n",
            "         1.1421e-01, -9.6546e-02, -1.1862e-01,  5.7061e-02, -1.4959e-02,\n",
            "        -4.3508e-02, -6.2708e-02, -4.2280e-02,  1.8776e-05, -1.2573e-01,\n",
            "        -5.1401e-03, -1.9178e-02, -1.1381e-01, -4.9384e-02,  2.7333e-02,\n",
            "        -8.6919e-02, -4.7249e-02, -9.7353e-02,  1.0338e-01,  2.0534e-02,\n",
            "         9.9820e-02, -2.5265e-04,  3.7819e-03,  6.7180e-02,  3.7843e-02,\n",
            "         4.4451e-03, -5.6260e-02, -3.9616e-03,  5.7068e-02, -5.4993e-02,\n",
            "         9.8881e-02, -4.7343e-02,  8.0293e-02, -1.0068e-01, -6.7406e-02,\n",
            "        -9.1618e-02,  1.1658e-01, -1.6978e-02,  1.8075e-02, -6.6643e-02,\n",
            "        -6.2219e-02,  3.7489e-02, -1.7134e-02, -1.0179e-01, -4.7666e-02,\n",
            "         1.6134e-02, -5.5774e-02, -9.3393e-02,  2.3366e-02,  7.6844e-02,\n",
            "         3.8462e-02, -1.1255e-01, -1.3877e-03,  3.0731e-02,  1.2067e-01,\n",
            "         1.1839e-01, -1.2183e-01, -1.6283e-02,  2.8065e-02,  9.6009e-03,\n",
            "        -3.1169e-02, -5.8414e-02, -5.1342e-02, -2.3757e-02,  3.3121e-02,\n",
            "        -1.0860e-01, -1.0286e-01, -6.2152e-02, -1.1430e-01,  4.8513e-02,\n",
            "        -4.3331e-02,  3.2981e-02, -5.2024e-02, -7.2483e-02, -9.4070e-02,\n",
            "        -3.7915e-02,  3.3815e-02, -9.1949e-02, -7.6933e-02,  5.0498e-02,\n",
            "        -1.0693e-01, -5.0249e-02, -4.9823e-02, -7.3519e-02,  6.5823e-02,\n",
            "        -9.8247e-02, -5.2538e-02, -1.1645e-01,  1.2304e-01,  3.1492e-02,\n",
            "         3.1313e-02,  1.1099e-01,  3.5909e-02, -1.0368e-01, -1.0862e-01,\n",
            "        -1.1651e-01,  7.0993e-02,  5.5386e-02, -1.2961e-01, -1.2715e-01,\n",
            "         8.7442e-02, -5.0995e-02, -5.5267e-02,  9.1020e-03,  4.1896e-02,\n",
            "         5.7487e-02,  1.0317e-02, -1.1416e-01,  1.0810e-01,  9.8724e-03,\n",
            "         6.0378e-02, -5.4017e-02, -6.9602e-02,  8.2784e-02,  4.9444e-02,\n",
            "         7.8025e-02,  7.4739e-02,  7.5287e-03, -5.5910e-02, -1.2729e-01,\n",
            "        -2.8343e-02,  3.7124e-02, -1.0591e-01, -8.8113e-02,  1.7019e-02,\n",
            "        -7.6159e-02,  5.0795e-02,  2.4822e-02,  7.6979e-02, -4.3122e-03,\n",
            "         9.4432e-02,  6.5362e-02, -3.0382e-02, -9.0366e-02,  4.3999e-02,\n",
            "        -1.2237e-01,  5.0498e-02,  8.0682e-02,  7.8869e-02, -2.3364e-02,\n",
            "         3.5696e-02,  7.4297e-02, -9.9113e-02,  2.3038e-03, -8.1129e-02,\n",
            "        -2.1608e-02,  1.7170e-02,  1.2729e-02,  1.0768e-01,  9.5371e-02,\n",
            "         1.1393e-01,  1.1623e-01,  6.7311e-02, -2.4086e-02,  1.1251e-02,\n",
            "         1.1969e-01,  7.0128e-02,  1.5703e-02,  1.1490e-01, -1.1450e-01,\n",
            "        -7.6581e-02,  8.0429e-03, -7.1863e-02, -6.9786e-02, -4.6634e-02,\n",
            "        -1.2211e-02,  2.1304e-02, -7.0591e-02, -9.2018e-02, -3.3653e-02,\n",
            "        -3.5893e-03, -8.9412e-02,  1.3617e-01,  1.1753e-01,  1.0586e-01,\n",
            "        -5.5688e-02, -8.9697e-02, -5.9999e-02, -4.6886e-02, -8.7781e-02,\n",
            "        -1.0119e-01, -4.9649e-02,  8.1745e-02, -6.6278e-02, -1.0747e-01,\n",
            "        -5.5250e-02,  4.2448e-02, -8.4126e-02,  1.1985e-01,  7.9227e-02,\n",
            "        -5.7833e-02, -9.6425e-03, -1.0969e-01, -1.5199e-02,  4.0374e-02,\n",
            "         1.2233e-01, -1.0751e-01, -8.8555e-02, -8.0156e-02, -1.0947e-01,\n",
            "         6.6175e-02, -7.8733e-02,  1.1410e-01, -5.8319e-03,  5.0843e-03,\n",
            "         2.8413e-02, -4.1747e-02, -6.0378e-02,  1.9855e-02,  1.2795e-01,\n",
            "        -4.8700e-02])\n",
            "tensor([[ 0.0569, -0.0306,  0.0726,  ..., -0.0883, -0.0189, -0.0162],\n",
            "        [-0.0364, -0.0278,  0.0644,  ...,  0.0370, -0.0947, -0.0373],\n",
            "        [-0.1140, -0.0227,  0.0890,  ..., -0.0514,  0.1186,  0.0489],\n",
            "        ...,\n",
            "        [-0.0265, -0.0059,  0.0578,  ...,  0.0479, -0.1218, -0.0457],\n",
            "        [ 0.0960,  0.0968,  0.1289,  ...,  0.1159,  0.0600, -0.1120],\n",
            "        [-0.0212, -0.1121, -0.0122,  ...,  0.0612,  0.0580, -0.1230]])\n",
            "tensor([[ 0.0066, -0.0819,  0.0046,  ..., -0.0422, -0.0488,  0.0181],\n",
            "        [ 0.0286,  0.0010,  0.0627,  ...,  0.0825, -0.0561,  0.0827],\n",
            "        [ 0.0045, -0.1020, -0.0511,  ...,  0.0970,  0.0025,  0.0426],\n",
            "        ...,\n",
            "        [-0.0980,  0.0004,  0.0003,  ...,  0.0661,  0.0726,  0.0443],\n",
            "        [ 0.0502,  0.0751,  0.0817,  ..., -0.0857, -0.0705, -0.1270],\n",
            "        [ 0.1138,  0.0350,  0.0158,  ...,  0.0396, -0.0150, -0.0693]])\n",
            "tensor([ 0.0477, -0.0364, -0.0240, -0.0541, -0.1073,  0.0095,  0.1072,  0.0125,\n",
            "        -0.0678,  0.0887, -0.0913, -0.0342, -0.0982,  0.0676,  0.0789,  0.1239,\n",
            "        -0.0953,  0.0122,  0.1179,  0.1099,  0.0735, -0.1141,  0.1025,  0.0507,\n",
            "         0.0443,  0.0508, -0.0265,  0.0147,  0.1091, -0.0215, -0.0390,  0.0560,\n",
            "         0.1018,  0.0405, -0.1081,  0.0825, -0.0742,  0.0819, -0.0354,  0.0282,\n",
            "        -0.0682, -0.1127, -0.0817,  0.1047, -0.1319, -0.1077, -0.1012, -0.1022,\n",
            "        -0.1012,  0.0820,  0.0649,  0.0812,  0.0979,  0.0817, -0.1009, -0.0996,\n",
            "         0.1072, -0.0751,  0.0608,  0.0079,  0.0255, -0.0187, -0.0046,  0.0511,\n",
            "        -0.0866,  0.0826, -0.0663,  0.0656,  0.0325,  0.0015,  0.0549, -0.1117,\n",
            "         0.0401, -0.0954,  0.0333, -0.1080, -0.0396,  0.0087, -0.0297,  0.0629,\n",
            "        -0.0093, -0.0212,  0.0539, -0.0405, -0.0464, -0.0840,  0.0349,  0.0293,\n",
            "         0.0130, -0.0013,  0.0361, -0.0144, -0.0246, -0.1286, -0.0606, -0.0345,\n",
            "         0.0760,  0.0373, -0.0629, -0.0328, -0.0134, -0.1123, -0.1116,  0.1009,\n",
            "        -0.0756, -0.0252, -0.0394, -0.0716,  0.0027,  0.0274, -0.0903, -0.0613,\n",
            "        -0.0222,  0.0466,  0.0585, -0.0448, -0.0509,  0.0236, -0.1308, -0.0260,\n",
            "         0.0947,  0.0579, -0.0641, -0.0909,  0.0981,  0.1199, -0.0175, -0.1134,\n",
            "         0.0773,  0.0751, -0.1167,  0.0502, -0.0652, -0.0341,  0.0260, -0.0857,\n",
            "        -0.0945, -0.0322,  0.1132,  0.0969, -0.1092, -0.0446, -0.0455, -0.0563,\n",
            "         0.0527,  0.1200, -0.0478, -0.0781, -0.0381, -0.0926,  0.0827,  0.0526,\n",
            "        -0.0644,  0.0265,  0.0191, -0.0271,  0.0607, -0.0690, -0.0414,  0.0324,\n",
            "         0.1070, -0.1059, -0.0456, -0.0777,  0.1209, -0.0259,  0.0425, -0.0605,\n",
            "         0.0477, -0.0599,  0.0758,  0.0151, -0.0919, -0.0779, -0.0346, -0.0556,\n",
            "        -0.0312, -0.0167, -0.0065, -0.0474,  0.0871,  0.0816, -0.0017,  0.0163,\n",
            "        -0.0379, -0.1206,  0.0166, -0.0129, -0.0390,  0.0541,  0.0956,  0.0759,\n",
            "        -0.1028, -0.0676,  0.1262,  0.0256, -0.1061,  0.0546, -0.1015, -0.0802,\n",
            "        -0.0744, -0.0470, -0.0993,  0.1132,  0.0705, -0.0522,  0.1134,  0.1289,\n",
            "        -0.1077,  0.0718,  0.1363, -0.0545, -0.1142,  0.0664, -0.0854,  0.0070,\n",
            "         0.0193, -0.0731, -0.0203,  0.0171,  0.0780, -0.0333, -0.0957, -0.0574,\n",
            "        -0.0766, -0.0217,  0.1154,  0.1018,  0.1240, -0.0614, -0.0511,  0.0483,\n",
            "        -0.0343,  0.0868,  0.0850,  0.0529,  0.0979, -0.0987,  0.0568, -0.0054,\n",
            "        -0.0999, -0.0535, -0.0764, -0.1208, -0.0389, -0.0541, -0.0411,  0.0411,\n",
            "        -0.0221,  0.0729, -0.0311, -0.0931, -0.0995,  0.1029,  0.0460,  0.0286])\n",
            "tensor([ 0.0436,  0.0989,  0.0899, -0.0211,  0.0452,  0.0543,  0.1120, -0.0787,\n",
            "        -0.0123,  0.0810, -0.0740,  0.1232,  0.0513,  0.0873,  0.0354, -0.0784,\n",
            "        -0.0360, -0.1184, -0.0660, -0.0818, -0.1241, -0.0474, -0.1076,  0.0827,\n",
            "        -0.1032, -0.0855, -0.1039, -0.0816, -0.0735, -0.0528,  0.0930,  0.0500,\n",
            "        -0.0482,  0.0169, -0.0457,  0.0515,  0.0052, -0.0622,  0.0435, -0.0365,\n",
            "        -0.0068, -0.0171, -0.0706,  0.1087, -0.1299, -0.0249, -0.0439, -0.0064,\n",
            "        -0.0502,  0.0673, -0.0297, -0.0689, -0.1010, -0.0223, -0.0808, -0.0041,\n",
            "         0.0503, -0.1061,  0.1255, -0.0170,  0.0116,  0.1210, -0.0347,  0.0925,\n",
            "         0.0199, -0.0843, -0.0232,  0.0302, -0.0211, -0.0568, -0.0091,  0.0501,\n",
            "         0.0003, -0.0780,  0.1327,  0.0337,  0.1016,  0.0207, -0.0905, -0.0228,\n",
            "         0.0254,  0.0628,  0.0829, -0.0575, -0.0821,  0.0939, -0.0894,  0.1023,\n",
            "         0.1208,  0.0064,  0.0417, -0.0367, -0.0519, -0.1072, -0.0092,  0.0977,\n",
            "        -0.0620,  0.1164,  0.1044, -0.1184,  0.1088, -0.1140,  0.1317,  0.0884,\n",
            "         0.0845, -0.0978,  0.0494, -0.1067, -0.0750, -0.0437,  0.0981,  0.1072,\n",
            "         0.1214, -0.1416, -0.0074,  0.0670,  0.0889,  0.1192,  0.0882, -0.0182,\n",
            "        -0.0633, -0.0946, -0.0165, -0.0619, -0.0282,  0.0109,  0.0974, -0.0530,\n",
            "        -0.0128, -0.0375,  0.0959,  0.0351,  0.0201, -0.0204, -0.0177, -0.0499,\n",
            "        -0.0078,  0.0937, -0.0847, -0.0058,  0.0898,  0.0284, -0.1175, -0.1082,\n",
            "         0.0906,  0.0361,  0.1375,  0.0498,  0.1014, -0.0415,  0.1321,  0.0015,\n",
            "        -0.1068,  0.1318,  0.0961,  0.0392,  0.0484, -0.0732, -0.0357, -0.1044,\n",
            "         0.0032, -0.1118,  0.0678,  0.0848,  0.1143, -0.0963,  0.0672, -0.0228,\n",
            "        -0.0354,  0.0939, -0.0215, -0.0548,  0.0584,  0.0868, -0.0422,  0.0278,\n",
            "         0.0496, -0.0934, -0.0454,  0.0421, -0.0204, -0.0506,  0.0422, -0.0799,\n",
            "        -0.1351, -0.0870,  0.1155, -0.0360, -0.0737,  0.1205, -0.1114,  0.0511,\n",
            "         0.0028, -0.0945,  0.1117, -0.0297, -0.0480, -0.0051,  0.0442,  0.0382,\n",
            "        -0.0130,  0.0273,  0.1001, -0.0656,  0.0033, -0.0453, -0.0061, -0.0421,\n",
            "        -0.0382, -0.0685, -0.0872, -0.0651, -0.1120,  0.0626, -0.1114,  0.0036,\n",
            "         0.0419,  0.0482,  0.1295, -0.1034, -0.1008, -0.1089,  0.0397,  0.0471,\n",
            "         0.0651, -0.0718, -0.0797, -0.0840, -0.0208,  0.0576, -0.0684, -0.0844,\n",
            "         0.0112, -0.0654, -0.0432,  0.1142, -0.0514,  0.0084,  0.0252, -0.1174,\n",
            "         0.0613, -0.0390,  0.0208,  0.0798,  0.1251, -0.0273, -0.0367,  0.0619,\n",
            "         0.1023, -0.0944, -0.0495, -0.0498, -0.1037, -0.0904, -0.0537, -0.1139])\n",
            "tensor([[ 0.0534, -0.0704, -0.1246, -0.0926,  0.0375,  0.1107, -0.0648, -0.0087,\n",
            "         -0.0878,  0.0311,  0.1045, -0.1008, -0.0888,  0.1174, -0.1263, -0.0899,\n",
            "         -0.0737,  0.0170,  0.1078, -0.0658,  0.0153,  0.0030,  0.0948,  0.0682,\n",
            "         -0.0939,  0.0321,  0.0906, -0.0542, -0.0745, -0.0113, -0.0427, -0.0163,\n",
            "          0.1071, -0.0170, -0.0105, -0.0360,  0.0389, -0.0455,  0.0249,  0.0843,\n",
            "          0.0257,  0.0853, -0.0323, -0.1042, -0.0192, -0.0041,  0.0409, -0.0205,\n",
            "         -0.1231, -0.0329, -0.0911,  0.1076,  0.0537,  0.0863, -0.0248, -0.0647,\n",
            "         -0.0221, -0.0394,  0.0847, -0.1027, -0.0579,  0.0455, -0.0653,  0.0102]])\n",
            "tensor([-0.0902])\n"
          ]
        }
      ],
      "source": [
        "for param in rnn.parameters():\n",
        "    print(param.data)"
      ]
    },
    {
      "cell_type": "markdown",
      "metadata": {
        "id": "PY0wF6e46-JE"
      },
      "source": [
        "## Step 5: Checking model performance\n",
        "\n",
        "With our model fit we can now make predictions on both our training and testing sets."
      ]
    },
    {
      "cell_type": "code",
      "execution_count": 143,
      "metadata": {
        "colab": {
          "base_uri": "https://localhost:8080/",
          "height": 282
        },
        "id": "6dygBlig6_XD",
        "outputId": "71a0b7e7-58cb-4d02-8ac7-81bc8a4fecd0"
      },
      "outputs": [
        {
          "data": {
            "text/plain": [
              "[<matplotlib.lines.Line2D at 0x7fcb11579d90>]"
            ]
          },
          "execution_count": 143,
          "metadata": {},
          "output_type": "execute_result"
        },
        {
          "data": {
            "image/png": "[encoded data removed]",
            "text/plain": [
              "<Figure size 640x480 with 1 Axes>"
            ]
          },
          "metadata": {},
          "output_type": "display_data"
        }
      ],
      "source": [
        "plt.plot(history)\n",
        "# dplt.plot(history.history['val_loss'])"
      ]
    },
    {
      "cell_type": "code",
      "execution_count": 144,
      "metadata": {
        "colab": {
          "base_uri": "https://localhost:8080/",
          "height": 51
        },
        "id": "ScaBHhTv7Jih",
        "outputId": "e9e8016b-e1d3-4ef3-c742-e24632d460b5"
      },
      "outputs": [
        {
          "data": {
            "text/plain": [
              "array([[0.70143014, 0.68712871, 0.68272827, 0.68184818, 0.6860286 ,\n",
              "        0.71023102, 0.70737074]])"
            ]
          },
          "execution_count": 144,
          "metadata": {},
          "output_type": "execute_result"
        }
      ],
      "source": [
        "X_test[0]"
      ]
    },
    {
      "cell_type": "code",
      "execution_count": 145,
      "metadata": {
        "id": "hyICDKXa7Vbe"
      },
      "outputs": [],
      "source": [
        "# X_train_X_test = np.concatenate((X_train, X_test),axis=0)\n",
        "# hidden_state = None\n",
        "rnn.eval()\n",
        "# test_inputs = torch.tensor(X_test).float().cuda()\n",
        "test_predict, _ = rnn(X_test_cuda, hidden_state)\n",
        "test_predict_cpu = test_predict.cpu().detach().numpy()"
      ]
    },
    {
      "cell_type": "code",
      "execution_count": 146,
      "metadata": {
        "colab": {
          "base_uri": "https://localhost:8080/",
          "height": 34
        },
        "id": "FwD_e6VO-cIa",
        "outputId": "278864f2-d984-435f-8993-72f147c4029b"
      },
      "outputs": [
        {
          "data": {
            "text/plain": [
              "(251, 1, 1)"
            ]
          },
          "execution_count": 146,
          "metadata": {},
          "output_type": "execute_result"
        }
      ],
      "source": [
        "test_predict_cpu.shape"
      ]
    },
    {
      "cell_type": "code",
      "execution_count": 147,
      "metadata": {
        "colab": {
          "base_uri": "https://localhost:8080/",
          "height": 284
        },
        "id": "c-__h1sU7kW6",
        "outputId": "9c3fa33f-e926-4866-aaff-ee743a090b6f"
      },
      "outputs": [
        {
          "data": {
            "text/plain": [
              "[<matplotlib.lines.Line2D at 0x7fcb7128e050>]"
            ]
          },
          "execution_count": 147,
          "metadata": {},
          "output_type": "execute_result"
        },
        {
          "data": {
            "image/png": "[encoded data removed]",
            "text/plain": [
              "<Figure size 640x480 with 1 Axes>"
            ]
          },
          "metadata": {},
          "output_type": "display_data"
        }
      ],
      "source": [
        "plt.plot(sc.inverse_transform(y_test.reshape(-1,1)))\n",
        "plt.plot(sc.inverse_transform(test_predict_cpu.reshape(-1,1)))"
      ]
    },
    {
      "cell_type": "code",
      "execution_count": 148,
      "metadata": {
        "colab": {
          "base_uri": "https://localhost:8080/",
          "height": 281
        },
        "id": "LnMGQ5Sa8vMs",
        "outputId": "390ee364-74f7-41aa-e9e2-da10d3d1aead"
      },
      "outputs": [
        {
          "data": {
            "image/png": "[encoded data removed]",
            "text/plain": [
              "<Figure size 640x480 with 1 Axes>"
            ]
          },
          "metadata": {},
          "output_type": "display_data"
        }
      ],
      "source": [
        "# plot original data\n",
        "plt.plot(sc.inverse_transform(y.reshape(-1,1)), color='k')\n",
        "\n",
        "# train_inputs = torch.tensor(X_train).float().cuda()\n",
        "train_pred, hidden_state = rnn(inputs_cuda, None)\n",
        "train_pred_cpu = train_pred.cpu().detach().numpy()\n",
        "\n",
        "# use hidden state from previous training data\n",
        "test_predict, _ = rnn(X_test_cuda, hidden_state)\n",
        "test_predict_cpu = test_predict.cpu().detach().numpy()\n",
        "\n",
        "# plt.plot(scl.inverse_transform(y_test.reshape(-1,1)))\n",
        "split_pt = int(X.shape[0] * 0.80) + 7 # window_size\n",
        "plt.plot(np.arange(7, split_pt, 1), sc.inverse_transform(train_pred_cpu.reshape(-1,1)), color='b')\n",
        "plt.plot(np.arange(split_pt, split_pt + len(test_predict_cpu), 1), sc.inverse_transform(test_predict_cpu.reshape(-1,1)), color='r')\n",
        "\n",
        "# pretty up graph\n",
        "plt.xlabel('day')\n",
        "plt.ylabel('price of MMM stock')\n",
        "plt.legend(['original series','training fit','testing fit'], loc='center left', bbox_to_anchor=(1, 0.5))\n",
        "plt.show()\n"
      ]
    },
    {
      "cell_type": "code",
      "execution_count": null,
      "metadata": {
        "id": "u4J-TrjE2bTy"
      },
      "outputs": [],
      "source": []
    }
  ],
  "metadata": {
    "accelerator": "GPU",
    "colab": {
      "provenance": [],
      "toc_visible": true
    },
    "kernelspec": {
      "display_name": "Python 3",
      "language": "python",
      "name": "python3"
    },
    "language_info": {
      "codemirror_mode": {
        "name": "ipython",
        "version": 3
      },
      "file_extension": ".py",
      "mimetype": "text/x-python",
      "name": "python",
      "nbconvert_exporter": "python",
      "pygments_lexer": "ipython3",
      "version": "3.7.9"
    },
    "vscode": {
      "interpreter": {
        "hash": "aee8b7b246df8f9039afb4144a1f6fd8d2ca17a180786b69acc140d282b71a49"
      }
    }
  },
  "nbformat": 4,
  "nbformat_minor": 0
}
